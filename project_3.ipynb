{
 "cells": [
  {
   "cell_type": "code",
   "execution_count": 1,
   "metadata": {},
   "outputs": [
    {
     "data": {
      "text/html": [
       "<div>\n",
       "<style scoped>\n",
       "    .dataframe tbody tr th:only-of-type {\n",
       "        vertical-align: middle;\n",
       "    }\n",
       "\n",
       "    .dataframe tbody tr th {\n",
       "        vertical-align: top;\n",
       "    }\n",
       "\n",
       "    .dataframe thead th {\n",
       "        text-align: right;\n",
       "    }\n",
       "</style>\n",
       "<table border=\"1\" class=\"dataframe\">\n",
       "  <thead>\n",
       "    <tr style=\"text-align: right;\">\n",
       "      <th></th>\n",
       "      <th>Restaurant_id</th>\n",
       "      <th>City</th>\n",
       "      <th>Cuisine Style</th>\n",
       "      <th>Ranking</th>\n",
       "      <th>Rating</th>\n",
       "      <th>Price Range</th>\n",
       "      <th>Number of Reviews</th>\n",
       "      <th>Reviews</th>\n",
       "      <th>URL_TA</th>\n",
       "      <th>ID_TA</th>\n",
       "    </tr>\n",
       "  </thead>\n",
       "  <tbody>\n",
       "    <tr>\n",
       "      <th>0</th>\n",
       "      <td>id_5569</td>\n",
       "      <td>Paris</td>\n",
       "      <td>['European', 'French', 'International']</td>\n",
       "      <td>5570.0</td>\n",
       "      <td>3.5</td>\n",
       "      <td>$$ - $$$</td>\n",
       "      <td>194.0</td>\n",
       "      <td>[['Good food at your doorstep', 'A good hotel ...</td>\n",
       "      <td>/Restaurant_Review-g187147-d1912643-Reviews-R_...</td>\n",
       "      <td>d1912643</td>\n",
       "    </tr>\n",
       "    <tr>\n",
       "      <th>1</th>\n",
       "      <td>id_1535</td>\n",
       "      <td>Stockholm</td>\n",
       "      <td>NaN</td>\n",
       "      <td>1537.0</td>\n",
       "      <td>4.0</td>\n",
       "      <td>NaN</td>\n",
       "      <td>10.0</td>\n",
       "      <td>[['Unique cuisine', 'Delicious Nepalese food']...</td>\n",
       "      <td>/Restaurant_Review-g189852-d7992032-Reviews-Bu...</td>\n",
       "      <td>d7992032</td>\n",
       "    </tr>\n",
       "    <tr>\n",
       "      <th>2</th>\n",
       "      <td>id_352</td>\n",
       "      <td>London</td>\n",
       "      <td>['Japanese', 'Sushi', 'Asian', 'Grill', 'Veget...</td>\n",
       "      <td>353.0</td>\n",
       "      <td>4.5</td>\n",
       "      <td>$$$$</td>\n",
       "      <td>688.0</td>\n",
       "      <td>[['Catch up with friends', 'Not exceptional'],...</td>\n",
       "      <td>/Restaurant_Review-g186338-d8632781-Reviews-RO...</td>\n",
       "      <td>d8632781</td>\n",
       "    </tr>\n",
       "    <tr>\n",
       "      <th>3</th>\n",
       "      <td>id_3456</td>\n",
       "      <td>Berlin</td>\n",
       "      <td>NaN</td>\n",
       "      <td>3458.0</td>\n",
       "      <td>5.0</td>\n",
       "      <td>NaN</td>\n",
       "      <td>3.0</td>\n",
       "      <td>[[], []]</td>\n",
       "      <td>/Restaurant_Review-g187323-d1358776-Reviews-Es...</td>\n",
       "      <td>d1358776</td>\n",
       "    </tr>\n",
       "    <tr>\n",
       "      <th>4</th>\n",
       "      <td>id_615</td>\n",
       "      <td>Munich</td>\n",
       "      <td>['German', 'Central European', 'Vegetarian Fri...</td>\n",
       "      <td>621.0</td>\n",
       "      <td>4.0</td>\n",
       "      <td>$$ - $$$</td>\n",
       "      <td>84.0</td>\n",
       "      <td>[['Best place to try a Bavarian food', 'Nice b...</td>\n",
       "      <td>/Restaurant_Review-g187309-d6864963-Reviews-Au...</td>\n",
       "      <td>d6864963</td>\n",
       "    </tr>\n",
       "    <tr>\n",
       "      <th>...</th>\n",
       "      <td>...</td>\n",
       "      <td>...</td>\n",
       "      <td>...</td>\n",
       "      <td>...</td>\n",
       "      <td>...</td>\n",
       "      <td>...</td>\n",
       "      <td>...</td>\n",
       "      <td>...</td>\n",
       "      <td>...</td>\n",
       "      <td>...</td>\n",
       "    </tr>\n",
       "    <tr>\n",
       "      <th>39995</th>\n",
       "      <td>id_499</td>\n",
       "      <td>Milan</td>\n",
       "      <td>['Italian', 'Vegetarian Friendly', 'Vegan Opti...</td>\n",
       "      <td>500.0</td>\n",
       "      <td>4.5</td>\n",
       "      <td>$$ - $$$</td>\n",
       "      <td>79.0</td>\n",
       "      <td>[['The real Italian experience!', 'Wonderful f...</td>\n",
       "      <td>/Restaurant_Review-g187849-d2104414-Reviews-Ro...</td>\n",
       "      <td>d2104414</td>\n",
       "    </tr>\n",
       "    <tr>\n",
       "      <th>39996</th>\n",
       "      <td>id_6340</td>\n",
       "      <td>Paris</td>\n",
       "      <td>['French', 'American', 'Bar', 'European', 'Veg...</td>\n",
       "      <td>6341.0</td>\n",
       "      <td>3.5</td>\n",
       "      <td>$$ - $$$</td>\n",
       "      <td>542.0</td>\n",
       "      <td>[['Parisian atmosphere', 'Bit pricey but inter...</td>\n",
       "      <td>/Restaurant_Review-g187147-d1800036-Reviews-La...</td>\n",
       "      <td>d1800036</td>\n",
       "    </tr>\n",
       "    <tr>\n",
       "      <th>39997</th>\n",
       "      <td>id_1649</td>\n",
       "      <td>Stockholm</td>\n",
       "      <td>['Japanese', 'Sushi']</td>\n",
       "      <td>1652.0</td>\n",
       "      <td>4.5</td>\n",
       "      <td>NaN</td>\n",
       "      <td>4.0</td>\n",
       "      <td>[['Good by swedish standards', 'A hidden jewel...</td>\n",
       "      <td>/Restaurant_Review-g189852-d947615-Reviews-Sus...</td>\n",
       "      <td>d947615</td>\n",
       "    </tr>\n",
       "    <tr>\n",
       "      <th>39998</th>\n",
       "      <td>id_640</td>\n",
       "      <td>Warsaw</td>\n",
       "      <td>['Polish', 'European', 'Eastern European', 'Ce...</td>\n",
       "      <td>641.0</td>\n",
       "      <td>4.0</td>\n",
       "      <td>$$ - $$$</td>\n",
       "      <td>70.0</td>\n",
       "      <td>[['Underground restaurant', 'Oldest Restaurant...</td>\n",
       "      <td>/Restaurant_Review-g274856-d1100838-Reviews-Ho...</td>\n",
       "      <td>d1100838</td>\n",
       "    </tr>\n",
       "    <tr>\n",
       "      <th>39999</th>\n",
       "      <td>id_4824</td>\n",
       "      <td>Milan</td>\n",
       "      <td>['Spanish']</td>\n",
       "      <td>4827.0</td>\n",
       "      <td>3.0</td>\n",
       "      <td>$$ - $$$</td>\n",
       "      <td>260.0</td>\n",
       "      <td>[['Average', 'Nice an informal'], ['01/31/2016...</td>\n",
       "      <td>/Restaurant_Review-g187849-d1109020-Reviews-Ta...</td>\n",
       "      <td>d1109020</td>\n",
       "    </tr>\n",
       "  </tbody>\n",
       "</table>\n",
       "<p>40000 rows × 10 columns</p>\n",
       "</div>"
      ],
      "text/plain": [
       "      Restaurant_id       City  \\\n",
       "0           id_5569      Paris   \n",
       "1           id_1535  Stockholm   \n",
       "2            id_352     London   \n",
       "3           id_3456     Berlin   \n",
       "4            id_615     Munich   \n",
       "...             ...        ...   \n",
       "39995        id_499      Milan   \n",
       "39996       id_6340      Paris   \n",
       "39997       id_1649  Stockholm   \n",
       "39998        id_640     Warsaw   \n",
       "39999       id_4824      Milan   \n",
       "\n",
       "                                           Cuisine Style  Ranking  Rating  \\\n",
       "0                ['European', 'French', 'International']   5570.0     3.5   \n",
       "1                                                    NaN   1537.0     4.0   \n",
       "2      ['Japanese', 'Sushi', 'Asian', 'Grill', 'Veget...    353.0     4.5   \n",
       "3                                                    NaN   3458.0     5.0   \n",
       "4      ['German', 'Central European', 'Vegetarian Fri...    621.0     4.0   \n",
       "...                                                  ...      ...     ...   \n",
       "39995  ['Italian', 'Vegetarian Friendly', 'Vegan Opti...    500.0     4.5   \n",
       "39996  ['French', 'American', 'Bar', 'European', 'Veg...   6341.0     3.5   \n",
       "39997                              ['Japanese', 'Sushi']   1652.0     4.5   \n",
       "39998  ['Polish', 'European', 'Eastern European', 'Ce...    641.0     4.0   \n",
       "39999                                        ['Spanish']   4827.0     3.0   \n",
       "\n",
       "      Price Range  Number of Reviews  \\\n",
       "0        $$ - $$$              194.0   \n",
       "1             NaN               10.0   \n",
       "2            $$$$              688.0   \n",
       "3             NaN                3.0   \n",
       "4        $$ - $$$               84.0   \n",
       "...           ...                ...   \n",
       "39995    $$ - $$$               79.0   \n",
       "39996    $$ - $$$              542.0   \n",
       "39997         NaN                4.0   \n",
       "39998    $$ - $$$               70.0   \n",
       "39999    $$ - $$$              260.0   \n",
       "\n",
       "                                                 Reviews  \\\n",
       "0      [['Good food at your doorstep', 'A good hotel ...   \n",
       "1      [['Unique cuisine', 'Delicious Nepalese food']...   \n",
       "2      [['Catch up with friends', 'Not exceptional'],...   \n",
       "3                                               [[], []]   \n",
       "4      [['Best place to try a Bavarian food', 'Nice b...   \n",
       "...                                                  ...   \n",
       "39995  [['The real Italian experience!', 'Wonderful f...   \n",
       "39996  [['Parisian atmosphere', 'Bit pricey but inter...   \n",
       "39997  [['Good by swedish standards', 'A hidden jewel...   \n",
       "39998  [['Underground restaurant', 'Oldest Restaurant...   \n",
       "39999  [['Average', 'Nice an informal'], ['01/31/2016...   \n",
       "\n",
       "                                                  URL_TA     ID_TA  \n",
       "0      /Restaurant_Review-g187147-d1912643-Reviews-R_...  d1912643  \n",
       "1      /Restaurant_Review-g189852-d7992032-Reviews-Bu...  d7992032  \n",
       "2      /Restaurant_Review-g186338-d8632781-Reviews-RO...  d8632781  \n",
       "3      /Restaurant_Review-g187323-d1358776-Reviews-Es...  d1358776  \n",
       "4      /Restaurant_Review-g187309-d6864963-Reviews-Au...  d6864963  \n",
       "...                                                  ...       ...  \n",
       "39995  /Restaurant_Review-g187849-d2104414-Reviews-Ro...  d2104414  \n",
       "39996  /Restaurant_Review-g187147-d1800036-Reviews-La...  d1800036  \n",
       "39997  /Restaurant_Review-g189852-d947615-Reviews-Sus...   d947615  \n",
       "39998  /Restaurant_Review-g274856-d1100838-Reviews-Ho...  d1100838  \n",
       "39999  /Restaurant_Review-g187849-d1109020-Reviews-Ta...  d1109020  \n",
       "\n",
       "[40000 rows x 10 columns]"
      ]
     },
     "execution_count": 1,
     "metadata": {},
     "output_type": "execute_result"
    }
   ],
   "source": [
    "import re \n",
    "import datetime\n",
    "from datetime import datetime, timedelta\n",
    "import pandas as pd\n",
    "import numpy as np\n",
    "import seaborn as sns\n",
    "import matplotlib as plt\n",
    "from sklearn.preprocessing import MinMaxScaler\n",
    "RANDOM_SEED = 42\n",
    "!pip freeze > requirements.txt\n",
    "main = pd.read_csv('main_task.xls')\n",
    "main\n"
   ]
  },
  {
   "cell_type": "code",
   "execution_count": 2,
   "metadata": {},
   "outputs": [
    {
     "name": "stdout",
     "output_type": "stream",
     "text": [
      "<class 'pandas.core.frame.DataFrame'>\n",
      "RangeIndex: 40000 entries, 0 to 39999\n",
      "Data columns (total 10 columns):\n",
      " #   Column             Non-Null Count  Dtype  \n",
      "---  ------             --------------  -----  \n",
      " 0   Restaurant_id      40000 non-null  object \n",
      " 1   City               40000 non-null  object \n",
      " 2   Cuisine Style      30717 non-null  object \n",
      " 3   Ranking            40000 non-null  float64\n",
      " 4   Rating             40000 non-null  float64\n",
      " 5   Price Range        26114 non-null  object \n",
      " 6   Number of Reviews  37457 non-null  float64\n",
      " 7   Reviews            40000 non-null  object \n",
      " 8   URL_TA             40000 non-null  object \n",
      " 9   ID_TA              40000 non-null  object \n",
      "dtypes: float64(3), object(7)\n",
      "memory usage: 3.1+ MB\n"
     ]
    }
   ],
   "source": [
    "main.info()"
   ]
  },
  {
   "cell_type": "code",
   "execution_count": 3,
   "metadata": {
    "scrolled": true
   },
   "outputs": [
    {
     "data": {
      "text/plain": [
       "$$ - $$$    18412\n",
       "$            6279\n",
       "$$$$         1423\n",
       "Name: Price Range, dtype: int64"
      ]
     },
     "execution_count": 3,
     "metadata": {},
     "output_type": "execute_result"
    }
   ],
   "source": [
    "main['Price Range'].value_counts()"
   ]
  },
  {
   "cell_type": "code",
   "execution_count": 4,
   "metadata": {},
   "outputs": [],
   "source": [
    "def cash(x):\n",
    "    if x == '$':\n",
    "        return 1\n",
    "    if x == '$$ - $$$':\n",
    "        return 2\n",
    "    if x == '$$$$':\n",
    "        return 3       "
   ]
  },
  {
   "cell_type": "code",
   "execution_count": 5,
   "metadata": {},
   "outputs": [
    {
     "data": {
      "text/plain": [
       "0        2.0\n",
       "1        NaN\n",
       "2        3.0\n",
       "3        NaN\n",
       "4        2.0\n",
       "        ... \n",
       "39995    2.0\n",
       "39996    2.0\n",
       "39997    NaN\n",
       "39998    2.0\n",
       "39999    2.0\n",
       "Name: Price Range, Length: 40000, dtype: float64"
      ]
     },
     "execution_count": 5,
     "metadata": {},
     "output_type": "execute_result"
    }
   ],
   "source": [
    "main['Price Range'] = main[~main['Price Range'].isna()]['Price Range'].apply(cash)\n",
    "main['Price Range']"
   ]
  },
  {
   "cell_type": "code",
   "execution_count": 6,
   "metadata": {},
   "outputs": [
    {
     "data": {
      "text/plain": [
       "count    26114.000000\n",
       "mean         1.814046\n",
       "std          0.510263\n",
       "min          1.000000\n",
       "25%          2.000000\n",
       "50%          2.000000\n",
       "75%          2.000000\n",
       "max          3.000000\n",
       "Name: Price Range, dtype: float64"
      ]
     },
     "execution_count": 6,
     "metadata": {},
     "output_type": "execute_result"
    },
    {
     "data": {
      "image/png": "[encoded data removed]",
      "text/plain": [
       "<Figure size 432x288 with 1 Axes>"
      ]
     },
     "metadata": {
      "needs_background": "light"
     },
     "output_type": "display_data"
    }
   ],
   "source": [
    "main['Price Range'].hist()\n",
    "main['Price Range'].describe()"
   ]
  },
  {
   "cell_type": "code",
   "execution_count": 7,
   "metadata": {
    "scrolled": true
   },
   "outputs": [
    {
     "data": {
      "text/plain": [
       "0        2.0\n",
       "1        2.0\n",
       "2        3.0\n",
       "3        2.0\n",
       "4        2.0\n",
       "        ... \n",
       "39995    2.0\n",
       "39996    2.0\n",
       "39997    2.0\n",
       "39998    2.0\n",
       "39999    2.0\n",
       "Name: Price Range, Length: 40000, dtype: float64"
      ]
     },
     "execution_count": 7,
     "metadata": {},
     "output_type": "execute_result"
    }
   ],
   "source": [
    "main['Price Range'] = main['Price Range'].fillna(2)\n",
    "main['Price Range']"
   ]
  },
  {
   "cell_type": "code",
   "execution_count": 8,
   "metadata": {},
   "outputs": [
    {
     "data": {
      "text/plain": [
       "<AxesSubplot:>"
      ]
     },
     "execution_count": 8,
     "metadata": {},
     "output_type": "execute_result"
    },
    {
     "data": {
      "image/png": "[encoded data removed]",
      "text/plain": [
       "<Figure size 432x288 with 1 Axes>"
      ]
     },
     "metadata": {
      "needs_background": "light"
     },
     "output_type": "display_data"
    }
   ],
   "source": [
    "main['Price Range'].hist()"
   ]
  },
  {
   "cell_type": "code",
   "execution_count": 9,
   "metadata": {},
   "outputs": [
    {
     "data": {
      "text/plain": [
       "array([\"['European', 'French', 'International']\", nan,\n",
       "       \"['Japanese', 'Sushi', 'Asian', 'Grill', 'Vegetarian Friendly', 'Vegan Options', 'Gluten Free Options']\",\n",
       "       ...,\n",
       "       \"['Steakhouse', 'Barbecue', 'Australian', 'Argentinean', 'South American']\",\n",
       "       \"['French', 'American', 'Cafe', 'Healthy', 'Soups']\",\n",
       "       \"['French', 'Contemporary', 'Fusion', 'Gastropub']\"], dtype=object)"
      ]
     },
     "execution_count": 9,
     "metadata": {},
     "output_type": "execute_result"
    }
   ],
   "source": [
    "main['Cuisine Style'].unique()"
   ]
  },
  {
   "cell_type": "code",
   "execution_count": 10,
   "metadata": {},
   "outputs": [
    {
     "data": {
      "text/plain": [
       "0                        [European, French, International]\n",
       "1                                                      NaN\n",
       "2        [Japanese, Sushi, Asian, Grill, Vegetarian Fri...\n",
       "3                                                      NaN\n",
       "4          [German, Central European, Vegetarian Friendly]\n",
       "                               ...                        \n",
       "39995    [Italian, Vegetarian Friendly, Vegan Options, ...\n",
       "39996    [French, American, Bar, European, Vegetarian F...\n",
       "39997                                    [Japanese, Sushi]\n",
       "39998    [Polish, European, Eastern European, Central E...\n",
       "39999                                            [Spanish]\n",
       "Name: Cuisine Style, Length: 40000, dtype: object"
      ]
     },
     "execution_count": 10,
     "metadata": {},
     "output_type": "execute_result"
    }
   ],
   "source": [
    "def clean(x):\n",
    "    return x.replace('[','').replace(']','').replace(\"'\",'').replace(', ',',').split(',')\n",
    "\n",
    "main['Cuisine Style'] = main[~main['Cuisine Style'].isna()]['Cuisine Style'].apply(clean)\n",
    "main['Cuisine Style']"
   ]
  },
  {
   "cell_type": "code",
   "execution_count": 11,
   "metadata": {},
   "outputs": [
    {
     "data": {
      "text/plain": [
       "Vegetarian Friendly    11189\n",
       "European               10060\n",
       "Mediterranean           6277\n",
       "Italian                 5964\n",
       "Vegan Options           4486\n",
       "                       ...  \n",
       "Latvian                    1\n",
       "Xinjiang                   1\n",
       "Burmese                    1\n",
       "Salvadoran                 1\n",
       "Yunnan                     1\n",
       "Name: Cuisine Style, Length: 125, dtype: int64"
      ]
     },
     "execution_count": 11,
     "metadata": {},
     "output_type": "execute_result"
    }
   ],
   "source": [
    "popular_cuisine = main[~main['Cuisine Style'].isna()].explode('Cuisine Style')['Cuisine Style'].value_counts()\n",
    "popular_cuisine"
   ]
  },
  {
   "cell_type": "code",
   "execution_count": 12,
   "metadata": {},
   "outputs": [
    {
     "data": {
      "text/plain": [
       "0        14834.0\n",
       "1            NaN\n",
       "2        25909.0\n",
       "3            NaN\n",
       "4        13244.0\n",
       "          ...   \n",
       "39995    25752.0\n",
       "39996    29051.0\n",
       "39997     2620.0\n",
       "39998    23503.0\n",
       "39999     2798.0\n",
       "Name: popular_cuisine, Length: 40000, dtype: float64"
      ]
     },
     "execution_count": 12,
     "metadata": {},
     "output_type": "execute_result"
    }
   ],
   "source": [
    "def tester(list_cuisine):\n",
    "    for cuisine in list_cuisine:\n",
    "        if cuisine in popular_cuisine:\n",
    "            return popular_cuisine[list_cuisine].sum()\n",
    "    \n",
    "main['popular_cuisine'] = main[~main['Cuisine Style'].isna()]['Cuisine Style'].apply(tester)\n",
    "main['popular_cuisine']"
   ]
  },
  {
   "cell_type": "code",
   "execution_count": 13,
   "metadata": {
    "scrolled": true
   },
   "outputs": [
    {
     "data": {
      "text/plain": [
       "count    30717.000000\n",
       "mean     13838.334636\n",
       "std      10897.575118\n",
       "min          5.000000\n",
       "25%       3920.000000\n",
       "50%      11666.000000\n",
       "75%      21306.000000\n",
       "max      63278.000000\n",
       "Name: popular_cuisine, dtype: float64"
      ]
     },
     "execution_count": 13,
     "metadata": {},
     "output_type": "execute_result"
    },
    {
     "data": {
      "image/png": "[encoded data removed]",
      "text/plain": [
       "<Figure size 432x288 with 1 Axes>"
      ]
     },
     "metadata": {
      "needs_background": "light"
     },
     "output_type": "display_data"
    }
   ],
   "source": [
    "main['popular_cuisine'].hist()\n",
    "main['popular_cuisine'].describe()"
   ]
  },
  {
   "cell_type": "code",
   "execution_count": 14,
   "metadata": {
    "scrolled": true
   },
   "outputs": [
    {
     "data": {
      "text/plain": [
       "0        14834.0\n",
       "1        11666.0\n",
       "2        25909.0\n",
       "3        11666.0\n",
       "4        13244.0\n",
       "          ...   \n",
       "39995    25752.0\n",
       "39996    29051.0\n",
       "39997     2620.0\n",
       "39998    23503.0\n",
       "39999     2798.0\n",
       "Name: popular_cuisine, Length: 40000, dtype: float64"
      ]
     },
     "execution_count": 14,
     "metadata": {},
     "output_type": "execute_result"
    }
   ],
   "source": [
    "main['popular_cuisine'] = main['popular_cuisine'].fillna(main['popular_cuisine'].median())\n",
    "main['popular_cuisine']"
   ]
  },
  {
   "cell_type": "code",
   "execution_count": 15,
   "metadata": {},
   "outputs": [
    {
     "data": {
      "text/plain": [
       "<AxesSubplot:>"
      ]
     },
     "execution_count": 15,
     "metadata": {},
     "output_type": "execute_result"
    },
    {
     "data": {
      "image/png": "[encoded data removed]",
      "text/plain": [
       "<Figure size 432x288 with 1 Axes>"
      ]
     },
     "metadata": {
      "needs_background": "light"
     },
     "output_type": "display_data"
    }
   ],
   "source": [
    "main['popular_cuisine'].hist()"
   ]
  },
  {
   "cell_type": "code",
   "execution_count": 16,
   "metadata": {},
   "outputs": [
    {
     "data": {
      "text/plain": [
       "0        3.0\n",
       "1        NaN\n",
       "2        7.0\n",
       "3        NaN\n",
       "4        3.0\n",
       "        ... \n",
       "39995    4.0\n",
       "39996    5.0\n",
       "39997    2.0\n",
       "39998    5.0\n",
       "39999    1.0\n",
       "Name: count_cuisine, Length: 40000, dtype: float64"
      ]
     },
     "execution_count": 16,
     "metadata": {},
     "output_type": "execute_result"
    }
   ],
   "source": [
    "main['count_cuisine'] = main[~main['Cuisine Style'].isna()]['Cuisine Style'].apply(lambda x: len(x))\n",
    "main['count_cuisine']"
   ]
  },
  {
   "cell_type": "code",
   "execution_count": 17,
   "metadata": {},
   "outputs": [
    {
     "data": {
      "text/plain": [
       "count    30717.000000\n",
       "mean         3.112706\n",
       "std          1.806860\n",
       "min          1.000000\n",
       "25%          2.000000\n",
       "50%          3.000000\n",
       "75%          4.000000\n",
       "max         21.000000\n",
       "Name: count_cuisine, dtype: float64"
      ]
     },
     "execution_count": 17,
     "metadata": {},
     "output_type": "execute_result"
    },
    {
     "data": {
      "image/png": "[encoded data removed]",
      "text/plain": [
       "<Figure size 432x288 with 1 Axes>"
      ]
     },
     "metadata": {
      "needs_background": "light"
     },
     "output_type": "display_data"
    }
   ],
   "source": [
    "main['count_cuisine'].hist()\n",
    "main['count_cuisine'].describe()"
   ]
  },
  {
   "cell_type": "code",
   "execution_count": 18,
   "metadata": {
    "scrolled": false
   },
   "outputs": [
    {
     "data": {
      "text/plain": [
       "0        3.0\n",
       "1        4.0\n",
       "2        7.0\n",
       "3        4.0\n",
       "4        3.0\n",
       "        ... \n",
       "39995    4.0\n",
       "39996    5.0\n",
       "39997    2.0\n",
       "39998    5.0\n",
       "39999    1.0\n",
       "Name: count_cuisine, Length: 40000, dtype: float64"
      ]
     },
     "execution_count": 18,
     "metadata": {},
     "output_type": "execute_result"
    }
   ],
   "source": [
    "main['count_cuisine'] = main['count_cuisine'].fillna(4)\n",
    "main['count_cuisine']"
   ]
  },
  {
   "cell_type": "code",
   "execution_count": 19,
   "metadata": {},
   "outputs": [
    {
     "data": {
      "text/plain": [
       "<AxesSubplot:>"
      ]
     },
     "execution_count": 19,
     "metadata": {},
     "output_type": "execute_result"
    },
    {
     "data": {
      "image/png": "[encoded data removed]",
      "text/plain": [
       "<Figure size 432x288 with 1 Axes>"
      ]
     },
     "metadata": {
      "needs_background": "light"
     },
     "output_type": "display_data"
    }
   ],
   "source": [
    "main['count_cuisine'].hist()"
   ]
  },
  {
   "cell_type": "code",
   "execution_count": 20,
   "metadata": {
    "scrolled": true
   },
   "outputs": [
    {
     "data": {
      "text/plain": [
       "0        [['Good food at your doorstep', 'A good hotel ...\n",
       "1        [['Unique cuisine', 'Delicious Nepalese food']...\n",
       "2        [['Catch up with friends', 'Not exceptional'],...\n",
       "3                                                 [[], []]\n",
       "4        [['Best place to try a Bavarian food', 'Nice b...\n",
       "                               ...                        \n",
       "39995    [['The real Italian experience!', 'Wonderful f...\n",
       "39996    [['Parisian atmosphere', 'Bit pricey but inter...\n",
       "39997    [['Good by swedish standards', 'A hidden jewel...\n",
       "39998    [['Underground restaurant', 'Oldest Restaurant...\n",
       "39999    [['Average', 'Nice an informal'], ['01/31/2016...\n",
       "Name: Reviews, Length: 40000, dtype: object"
      ]
     },
     "execution_count": 20,
     "metadata": {},
     "output_type": "execute_result"
    }
   ],
   "source": [
    "main['Reviews']"
   ]
  },
  {
   "cell_type": "code",
   "execution_count": 21,
   "metadata": {
    "scrolled": true
   },
   "outputs": [
    {
     "data": {
      "text/plain": [
       "0        'Good food at your doorstep', 'A good hotel re...\n",
       "1        'Unique cuisine', 'Delicious Nepalese food'], ...\n",
       "2        'Catch up with friends', 'Not exceptional'], [...\n",
       "3                                                     ], [\n",
       "4        'Best place to try a Bavarian food', 'Nice bui...\n",
       "                               ...                        \n",
       "39995    'The real Italian experience!', 'Wonderful foo...\n",
       "39996    'Parisian atmosphere', 'Bit pricey but interes...\n",
       "39997    'Good by swedish standards', 'A hidden jewel i...\n",
       "39998    'Underground restaurant', 'Oldest Restaurant i...\n",
       "39999    'Average', 'Nice an informal'], ['01/31/2016',...\n",
       "Name: Reviews, Length: 40000, dtype: object"
      ]
     },
     "execution_count": 21,
     "metadata": {},
     "output_type": "execute_result"
    }
   ],
   "source": [
    "main['Reviews'] = main['Reviews'].apply(lambda x: x[2:-2])\n",
    "main['Reviews']"
   ]
  },
  {
   "cell_type": "code",
   "execution_count": 22,
   "metadata": {},
   "outputs": [
    {
     "data": {
      "text/plain": [
       "0        [12/31/2017, 11/20/2017]\n",
       "1        [07/06/2017, 06/19/2016]\n",
       "2        [01/08/2018, 01/06/2018]\n",
       "3                              []\n",
       "4        [11/18/2017, 02/19/2017]\n",
       "                   ...           \n",
       "39995    [12/16/2017, 11/12/2017]\n",
       "39996    [12/21/2017, 12/12/2017]\n",
       "39997    [11/03/2016, 04/12/2008]\n",
       "39998    [07/11/2017, 06/18/2017]\n",
       "39999    [01/31/2016, 07/04/2012]\n",
       "Name: Reviews_pat, Length: 40000, dtype: object"
      ]
     },
     "execution_count": 22,
     "metadata": {},
     "output_type": "execute_result"
    }
   ],
   "source": [
    "pattern = re.compile('\\d\\d.\\d\\d.\\d\\d\\d\\d')\n",
    "main['Reviews_pat'] = main['Reviews'].apply(lambda x: pattern.findall(x))\n",
    "main['Reviews_pat']"
   ]
  },
  {
   "cell_type": "code",
   "execution_count": 23,
   "metadata": {
    "scrolled": true
   },
   "outputs": [
    {
     "data": {
      "text/plain": [
       "0        [12/31/2017, 11/20/2017, nan]\n",
       "1        [07/06/2017, 06/19/2016, nan]\n",
       "2        [01/08/2018, 01/06/2018, nan]\n",
       "3                      [nan, nan, nan]\n",
       "4        [11/18/2017, 02/19/2017, nan]\n",
       "                     ...              \n",
       "39995    [12/16/2017, 11/12/2017, nan]\n",
       "39996    [12/21/2017, 12/12/2017, nan]\n",
       "39997    [11/03/2016, 04/12/2008, nan]\n",
       "39998    [07/11/2017, 06/18/2017, nan]\n",
       "39999    [01/31/2016, 07/04/2012, nan]\n",
       "Name: Reviews_pat, Length: 40000, dtype: object"
      ]
     },
     "execution_count": 23,
     "metadata": {},
     "output_type": "execute_result"
    }
   ],
   "source": [
    "def func(x):\n",
    "    if len(x) == 0:\n",
    "        return [np.nan]*3\n",
    "    if len(x) == 1:\n",
    "        return [x[0],np.nan,np.nan]\n",
    "    if len(x) == 2:\n",
    "        return [x[0],x[1],np.nan]\n",
    "    else:\n",
    "        return x\n",
    "    \n",
    "main['Reviews_pat'] = main['Reviews_pat'].apply(func)\n",
    "main['Reviews_pat']"
   ]
  },
  {
   "cell_type": "code",
   "execution_count": 24,
   "metadata": {},
   "outputs": [
    {
     "data": {
      "text/html": [
       "<div>\n",
       "<style scoped>\n",
       "    .dataframe tbody tr th:only-of-type {\n",
       "        vertical-align: middle;\n",
       "    }\n",
       "\n",
       "    .dataframe tbody tr th {\n",
       "        vertical-align: top;\n",
       "    }\n",
       "\n",
       "    .dataframe thead th {\n",
       "        text-align: right;\n",
       "    }\n",
       "</style>\n",
       "<table border=\"1\" class=\"dataframe\">\n",
       "  <thead>\n",
       "    <tr style=\"text-align: right;\">\n",
       "      <th></th>\n",
       "      <th>Reviews_1</th>\n",
       "      <th>Reviews_2</th>\n",
       "      <th>Reviews_3</th>\n",
       "    </tr>\n",
       "  </thead>\n",
       "  <tbody>\n",
       "    <tr>\n",
       "      <th>0</th>\n",
       "      <td>12/31/2017</td>\n",
       "      <td>11/20/2017</td>\n",
       "      <td>NaN</td>\n",
       "    </tr>\n",
       "    <tr>\n",
       "      <th>1</th>\n",
       "      <td>07/06/2017</td>\n",
       "      <td>06/19/2016</td>\n",
       "      <td>NaN</td>\n",
       "    </tr>\n",
       "    <tr>\n",
       "      <th>2</th>\n",
       "      <td>01/08/2018</td>\n",
       "      <td>01/06/2018</td>\n",
       "      <td>NaN</td>\n",
       "    </tr>\n",
       "    <tr>\n",
       "      <th>3</th>\n",
       "      <td>NaN</td>\n",
       "      <td>NaN</td>\n",
       "      <td>NaN</td>\n",
       "    </tr>\n",
       "    <tr>\n",
       "      <th>4</th>\n",
       "      <td>11/18/2017</td>\n",
       "      <td>02/19/2017</td>\n",
       "      <td>NaN</td>\n",
       "    </tr>\n",
       "    <tr>\n",
       "      <th>...</th>\n",
       "      <td>...</td>\n",
       "      <td>...</td>\n",
       "      <td>...</td>\n",
       "    </tr>\n",
       "    <tr>\n",
       "      <th>39995</th>\n",
       "      <td>12/16/2017</td>\n",
       "      <td>11/12/2017</td>\n",
       "      <td>NaN</td>\n",
       "    </tr>\n",
       "    <tr>\n",
       "      <th>39996</th>\n",
       "      <td>12/21/2017</td>\n",
       "      <td>12/12/2017</td>\n",
       "      <td>NaN</td>\n",
       "    </tr>\n",
       "    <tr>\n",
       "      <th>39997</th>\n",
       "      <td>11/03/2016</td>\n",
       "      <td>04/12/2008</td>\n",
       "      <td>NaN</td>\n",
       "    </tr>\n",
       "    <tr>\n",
       "      <th>39998</th>\n",
       "      <td>07/11/2017</td>\n",
       "      <td>06/18/2017</td>\n",
       "      <td>NaN</td>\n",
       "    </tr>\n",
       "    <tr>\n",
       "      <th>39999</th>\n",
       "      <td>01/31/2016</td>\n",
       "      <td>07/04/2012</td>\n",
       "      <td>NaN</td>\n",
       "    </tr>\n",
       "  </tbody>\n",
       "</table>\n",
       "<p>40000 rows × 3 columns</p>\n",
       "</div>"
      ],
      "text/plain": [
       "        Reviews_1   Reviews_2 Reviews_3\n",
       "0      12/31/2017  11/20/2017       NaN\n",
       "1      07/06/2017  06/19/2016       NaN\n",
       "2      01/08/2018  01/06/2018       NaN\n",
       "3             NaN         NaN       NaN\n",
       "4      11/18/2017  02/19/2017       NaN\n",
       "...           ...         ...       ...\n",
       "39995  12/16/2017  11/12/2017       NaN\n",
       "39996  12/21/2017  12/12/2017       NaN\n",
       "39997  11/03/2016  04/12/2008       NaN\n",
       "39998  07/11/2017  06/18/2017       NaN\n",
       "39999  01/31/2016  07/04/2012       NaN\n",
       "\n",
       "[40000 rows x 3 columns]"
      ]
     },
     "metadata": {},
     "output_type": "display_data"
    }
   ],
   "source": [
    "main['Reviews_1'] = main['Reviews_pat'].apply(lambda x: x[0])\n",
    "main['Reviews_2'] = main['Reviews_pat'].apply(lambda x: x[1])\n",
    "main['Reviews_3'] = main['Reviews_pat'].apply(lambda x: x[2])\n",
    "display(main[['Reviews_1','Reviews_2','Reviews_3']])"
   ]
  },
  {
   "cell_type": "code",
   "execution_count": 25,
   "metadata": {},
   "outputs": [
    {
     "data": {
      "text/plain": [
       "NaN           39999\n",
       "12/21/2017        1\n",
       "Name: Reviews_3, dtype: int64"
      ]
     },
     "execution_count": 25,
     "metadata": {},
     "output_type": "execute_result"
    }
   ],
   "source": [
    "main['Reviews_3'].value_counts(dropna=False)"
   ]
  },
  {
   "cell_type": "code",
   "execution_count": 26,
   "metadata": {
    "scrolled": true
   },
   "outputs": [],
   "source": [
    "def format_data(x):\n",
    "    a='.'\n",
    "    if a in x:\n",
    "        res = x.replace('.', '/')    \n",
    "    elif x=='21/12/2017':\n",
    "        res = '12/21/2017'\n",
    "    else:\n",
    "        res = x\n",
    "        return res\n",
    "    \n",
    "                                       \n",
    "main['Reviews_1'] = main[~main['Reviews_1'].isna()]['Reviews_1'].apply(format_data)                         \n",
    "main['Reviews_1'] = main[~main['Reviews_1'].isna()]['Reviews_1'].apply(lambda x: datetime.strptime(x,'%m/%d/%Y'))\n",
    "main['Reviews_2'] = main[~main['Reviews_2'].isna()]['Reviews_2'].apply(format_data)                         \n",
    "main['Reviews_2'] = main[~main['Reviews_2'].isna()]['Reviews_2'].apply(lambda x: datetime.strptime(x,'%m/%d/%Y'))"
   ]
  },
  {
   "cell_type": "code",
   "execution_count": 27,
   "metadata": {},
   "outputs": [
    {
     "data": {
      "text/plain": [
       "0       2017-12-31\n",
       "1       2017-07-06\n",
       "2       2018-01-08\n",
       "3              NaT\n",
       "4       2017-11-18\n",
       "           ...    \n",
       "39995   2017-12-16\n",
       "39996   2017-12-21\n",
       "39997   2016-11-03\n",
       "39998   2017-07-11\n",
       "39999   2016-01-31\n",
       "Name: Reviews_1, Length: 40000, dtype: datetime64[ns]"
      ]
     },
     "execution_count": 27,
     "metadata": {},
     "output_type": "execute_result"
    }
   ],
   "source": [
    "main['Reviews_1']"
   ]
  },
  {
   "cell_type": "code",
   "execution_count": 28,
   "metadata": {},
   "outputs": [
    {
     "data": {
      "text/plain": [
       "0       2017-11-20\n",
       "1       2016-06-19\n",
       "2       2018-01-06\n",
       "3              NaT\n",
       "4       2017-02-19\n",
       "           ...    \n",
       "39995   2017-11-12\n",
       "39996   2017-12-12\n",
       "39997   2008-04-12\n",
       "39998   2017-06-18\n",
       "39999   2012-07-04\n",
       "Name: Reviews_2, Length: 40000, dtype: datetime64[ns]"
      ]
     },
     "execution_count": 28,
     "metadata": {},
     "output_type": "execute_result"
    }
   ],
   "source": [
    "main['Reviews_2']"
   ]
  },
  {
   "cell_type": "code",
   "execution_count": 29,
   "metadata": {},
   "outputs": [
    {
     "name": "stdout",
     "output_type": "stream",
     "text": [
      "count                          28972\n",
      "mean     124 days 02:12:27.535551568\n",
      "std      231 days 12:25:22.696209352\n",
      "min              -362 days +00:00:00\n",
      "25%                 13 days 00:00:00\n",
      "50%                 55 days 00:00:00\n",
      "75%                156 days 00:00:00\n",
      "max               3207 days 00:00:00\n",
      "Name: Reviews_delta, dtype: object\n"
     ]
    },
    {
     "data": {
      "text/plain": [
       "0         41 days\n",
       "1        382 days\n",
       "2          2 days\n",
       "3         55 days\n",
       "4        272 days\n",
       "           ...   \n",
       "39995     34 days\n",
       "39996      9 days\n",
       "39997   3127 days\n",
       "39998     23 days\n",
       "39999   1306 days\n",
       "Name: Reviews_delta, Length: 40000, dtype: timedelta64[ns]"
      ]
     },
     "execution_count": 29,
     "metadata": {},
     "output_type": "execute_result"
    }
   ],
   "source": [
    "main['Reviews_delta'] = main['Reviews_1'] - main['Reviews_2']\n",
    "print(main['Reviews_delta'].describe())\n",
    "main['Reviews_delta'] = main['Reviews_delta'].fillna(main['Reviews_delta'].median())\n",
    "main['Reviews_delta']"
   ]
  },
  {
   "cell_type": "code",
   "execution_count": 30,
   "metadata": {
    "scrolled": true
   },
   "outputs": [
    {
     "data": {
      "text/plain": [
       "0          41\n",
       "1         382\n",
       "2           2\n",
       "3          55\n",
       "4         272\n",
       "         ... \n",
       "39995      34\n",
       "39996       9\n",
       "39997    3127\n",
       "39998      23\n",
       "39999    1306\n",
       "Name: Reviews_delta, Length: 40000, dtype: int64"
      ]
     },
     "execution_count": 30,
     "metadata": {},
     "output_type": "execute_result"
    }
   ],
   "source": [
    "main['Reviews_delta'] = main['Reviews_delta'].apply(lambda x:  x.days)\n",
    "main['Reviews_delta']"
   ]
  },
  {
   "cell_type": "code",
   "execution_count": 31,
   "metadata": {
    "scrolled": true
   },
   "outputs": [
    {
     "data": {
      "text/html": [
       "<div>\n",
       "<style scoped>\n",
       "    .dataframe tbody tr th:only-of-type {\n",
       "        vertical-align: middle;\n",
       "    }\n",
       "\n",
       "    .dataframe tbody tr th {\n",
       "        vertical-align: top;\n",
       "    }\n",
       "\n",
       "    .dataframe thead th {\n",
       "        text-align: right;\n",
       "    }\n",
       "</style>\n",
       "<table border=\"1\" class=\"dataframe\">\n",
       "  <thead>\n",
       "    <tr style=\"text-align: right;\">\n",
       "      <th></th>\n",
       "      <th>Restaurant_id</th>\n",
       "      <th>City</th>\n",
       "      <th>Cuisine Style</th>\n",
       "      <th>Ranking</th>\n",
       "      <th>Rating</th>\n",
       "      <th>Price Range</th>\n",
       "      <th>Number of Reviews</th>\n",
       "      <th>Reviews</th>\n",
       "      <th>URL_TA</th>\n",
       "      <th>ID_TA</th>\n",
       "      <th>popular_cuisine</th>\n",
       "      <th>count_cuisine</th>\n",
       "      <th>Reviews_pat</th>\n",
       "      <th>Reviews_1</th>\n",
       "      <th>Reviews_2</th>\n",
       "      <th>Reviews_3</th>\n",
       "      <th>Reviews_delta</th>\n",
       "    </tr>\n",
       "  </thead>\n",
       "  <tbody>\n",
       "    <tr>\n",
       "      <th>0</th>\n",
       "      <td>id_5569</td>\n",
       "      <td>Paris</td>\n",
       "      <td>[European, French, International]</td>\n",
       "      <td>5570.0</td>\n",
       "      <td>3.5</td>\n",
       "      <td>2.0</td>\n",
       "      <td>194.0</td>\n",
       "      <td>'Good food at your doorstep', 'A good hotel re...</td>\n",
       "      <td>/Restaurant_Review-g187147-d1912643-Reviews-R_...</td>\n",
       "      <td>d1912643</td>\n",
       "      <td>14834.0</td>\n",
       "      <td>3.0</td>\n",
       "      <td>[12/31/2017, 11/20/2017, nan]</td>\n",
       "      <td>2017-12-31</td>\n",
       "      <td>2017-11-20</td>\n",
       "      <td>NaN</td>\n",
       "      <td>41</td>\n",
       "    </tr>\n",
       "    <tr>\n",
       "      <th>1</th>\n",
       "      <td>id_1535</td>\n",
       "      <td>Stockholm</td>\n",
       "      <td>NaN</td>\n",
       "      <td>1537.0</td>\n",
       "      <td>4.0</td>\n",
       "      <td>2.0</td>\n",
       "      <td>10.0</td>\n",
       "      <td>'Unique cuisine', 'Delicious Nepalese food'], ...</td>\n",
       "      <td>/Restaurant_Review-g189852-d7992032-Reviews-Bu...</td>\n",
       "      <td>d7992032</td>\n",
       "      <td>11666.0</td>\n",
       "      <td>4.0</td>\n",
       "      <td>[07/06/2017, 06/19/2016, nan]</td>\n",
       "      <td>2017-07-06</td>\n",
       "      <td>2016-06-19</td>\n",
       "      <td>NaN</td>\n",
       "      <td>382</td>\n",
       "    </tr>\n",
       "    <tr>\n",
       "      <th>2</th>\n",
       "      <td>id_352</td>\n",
       "      <td>London</td>\n",
       "      <td>[Japanese, Sushi, Asian, Grill, Vegetarian Fri...</td>\n",
       "      <td>353.0</td>\n",
       "      <td>4.5</td>\n",
       "      <td>3.0</td>\n",
       "      <td>688.0</td>\n",
       "      <td>'Catch up with friends', 'Not exceptional'], [...</td>\n",
       "      <td>/Restaurant_Review-g186338-d8632781-Reviews-RO...</td>\n",
       "      <td>d8632781</td>\n",
       "      <td>25909.0</td>\n",
       "      <td>7.0</td>\n",
       "      <td>[01/08/2018, 01/06/2018, nan]</td>\n",
       "      <td>2018-01-08</td>\n",
       "      <td>2018-01-06</td>\n",
       "      <td>NaN</td>\n",
       "      <td>2</td>\n",
       "    </tr>\n",
       "    <tr>\n",
       "      <th>3</th>\n",
       "      <td>id_3456</td>\n",
       "      <td>Berlin</td>\n",
       "      <td>NaN</td>\n",
       "      <td>3458.0</td>\n",
       "      <td>5.0</td>\n",
       "      <td>2.0</td>\n",
       "      <td>3.0</td>\n",
       "      <td>], [</td>\n",
       "      <td>/Restaurant_Review-g187323-d1358776-Reviews-Es...</td>\n",
       "      <td>d1358776</td>\n",
       "      <td>11666.0</td>\n",
       "      <td>4.0</td>\n",
       "      <td>[nan, nan, nan]</td>\n",
       "      <td>NaT</td>\n",
       "      <td>NaT</td>\n",
       "      <td>NaN</td>\n",
       "      <td>55</td>\n",
       "    </tr>\n",
       "    <tr>\n",
       "      <th>4</th>\n",
       "      <td>id_615</td>\n",
       "      <td>Munich</td>\n",
       "      <td>[German, Central European, Vegetarian Friendly]</td>\n",
       "      <td>621.0</td>\n",
       "      <td>4.0</td>\n",
       "      <td>2.0</td>\n",
       "      <td>84.0</td>\n",
       "      <td>'Best place to try a Bavarian food', 'Nice bui...</td>\n",
       "      <td>/Restaurant_Review-g187309-d6864963-Reviews-Au...</td>\n",
       "      <td>d6864963</td>\n",
       "      <td>13244.0</td>\n",
       "      <td>3.0</td>\n",
       "      <td>[11/18/2017, 02/19/2017, nan]</td>\n",
       "      <td>2017-11-18</td>\n",
       "      <td>2017-02-19</td>\n",
       "      <td>NaN</td>\n",
       "      <td>272</td>\n",
       "    </tr>\n",
       "    <tr>\n",
       "      <th>...</th>\n",
       "      <td>...</td>\n",
       "      <td>...</td>\n",
       "      <td>...</td>\n",
       "      <td>...</td>\n",
       "      <td>...</td>\n",
       "      <td>...</td>\n",
       "      <td>...</td>\n",
       "      <td>...</td>\n",
       "      <td>...</td>\n",
       "      <td>...</td>\n",
       "      <td>...</td>\n",
       "      <td>...</td>\n",
       "      <td>...</td>\n",
       "      <td>...</td>\n",
       "      <td>...</td>\n",
       "      <td>...</td>\n",
       "      <td>...</td>\n",
       "    </tr>\n",
       "    <tr>\n",
       "      <th>39995</th>\n",
       "      <td>id_499</td>\n",
       "      <td>Milan</td>\n",
       "      <td>[Italian, Vegetarian Friendly, Vegan Options, ...</td>\n",
       "      <td>500.0</td>\n",
       "      <td>4.5</td>\n",
       "      <td>2.0</td>\n",
       "      <td>79.0</td>\n",
       "      <td>'The real Italian experience!', 'Wonderful foo...</td>\n",
       "      <td>/Restaurant_Review-g187849-d2104414-Reviews-Ro...</td>\n",
       "      <td>d2104414</td>\n",
       "      <td>25752.0</td>\n",
       "      <td>4.0</td>\n",
       "      <td>[12/16/2017, 11/12/2017, nan]</td>\n",
       "      <td>2017-12-16</td>\n",
       "      <td>2017-11-12</td>\n",
       "      <td>NaN</td>\n",
       "      <td>34</td>\n",
       "    </tr>\n",
       "    <tr>\n",
       "      <th>39996</th>\n",
       "      <td>id_6340</td>\n",
       "      <td>Paris</td>\n",
       "      <td>[French, American, Bar, European, Vegetarian F...</td>\n",
       "      <td>6341.0</td>\n",
       "      <td>3.5</td>\n",
       "      <td>2.0</td>\n",
       "      <td>542.0</td>\n",
       "      <td>'Parisian atmosphere', 'Bit pricey but interes...</td>\n",
       "      <td>/Restaurant_Review-g187147-d1800036-Reviews-La...</td>\n",
       "      <td>d1800036</td>\n",
       "      <td>29051.0</td>\n",
       "      <td>5.0</td>\n",
       "      <td>[12/21/2017, 12/12/2017, nan]</td>\n",
       "      <td>2017-12-21</td>\n",
       "      <td>2017-12-12</td>\n",
       "      <td>NaN</td>\n",
       "      <td>9</td>\n",
       "    </tr>\n",
       "    <tr>\n",
       "      <th>39997</th>\n",
       "      <td>id_1649</td>\n",
       "      <td>Stockholm</td>\n",
       "      <td>[Japanese, Sushi]</td>\n",
       "      <td>1652.0</td>\n",
       "      <td>4.5</td>\n",
       "      <td>2.0</td>\n",
       "      <td>4.0</td>\n",
       "      <td>'Good by swedish standards', 'A hidden jewel i...</td>\n",
       "      <td>/Restaurant_Review-g189852-d947615-Reviews-Sus...</td>\n",
       "      <td>d947615</td>\n",
       "      <td>2620.0</td>\n",
       "      <td>2.0</td>\n",
       "      <td>[11/03/2016, 04/12/2008, nan]</td>\n",
       "      <td>2016-11-03</td>\n",
       "      <td>2008-04-12</td>\n",
       "      <td>NaN</td>\n",
       "      <td>3127</td>\n",
       "    </tr>\n",
       "    <tr>\n",
       "      <th>39998</th>\n",
       "      <td>id_640</td>\n",
       "      <td>Warsaw</td>\n",
       "      <td>[Polish, European, Eastern European, Central E...</td>\n",
       "      <td>641.0</td>\n",
       "      <td>4.0</td>\n",
       "      <td>2.0</td>\n",
       "      <td>70.0</td>\n",
       "      <td>'Underground restaurant', 'Oldest Restaurant i...</td>\n",
       "      <td>/Restaurant_Review-g274856-d1100838-Reviews-Ho...</td>\n",
       "      <td>d1100838</td>\n",
       "      <td>23503.0</td>\n",
       "      <td>5.0</td>\n",
       "      <td>[07/11/2017, 06/18/2017, nan]</td>\n",
       "      <td>2017-07-11</td>\n",
       "      <td>2017-06-18</td>\n",
       "      <td>NaN</td>\n",
       "      <td>23</td>\n",
       "    </tr>\n",
       "    <tr>\n",
       "      <th>39999</th>\n",
       "      <td>id_4824</td>\n",
       "      <td>Milan</td>\n",
       "      <td>[Spanish]</td>\n",
       "      <td>4827.0</td>\n",
       "      <td>3.0</td>\n",
       "      <td>2.0</td>\n",
       "      <td>260.0</td>\n",
       "      <td>'Average', 'Nice an informal'], ['01/31/2016',...</td>\n",
       "      <td>/Restaurant_Review-g187849-d1109020-Reviews-Ta...</td>\n",
       "      <td>d1109020</td>\n",
       "      <td>2798.0</td>\n",
       "      <td>1.0</td>\n",
       "      <td>[01/31/2016, 07/04/2012, nan]</td>\n",
       "      <td>2016-01-31</td>\n",
       "      <td>2012-07-04</td>\n",
       "      <td>NaN</td>\n",
       "      <td>1306</td>\n",
       "    </tr>\n",
       "  </tbody>\n",
       "</table>\n",
       "<p>40000 rows × 17 columns</p>\n",
       "</div>"
      ],
      "text/plain": [
       "      Restaurant_id       City  \\\n",
       "0           id_5569      Paris   \n",
       "1           id_1535  Stockholm   \n",
       "2            id_352     London   \n",
       "3           id_3456     Berlin   \n",
       "4            id_615     Munich   \n",
       "...             ...        ...   \n",
       "39995        id_499      Milan   \n",
       "39996       id_6340      Paris   \n",
       "39997       id_1649  Stockholm   \n",
       "39998        id_640     Warsaw   \n",
       "39999       id_4824      Milan   \n",
       "\n",
       "                                           Cuisine Style  Ranking  Rating  \\\n",
       "0                      [European, French, International]   5570.0     3.5   \n",
       "1                                                    NaN   1537.0     4.0   \n",
       "2      [Japanese, Sushi, Asian, Grill, Vegetarian Fri...    353.0     4.5   \n",
       "3                                                    NaN   3458.0     5.0   \n",
       "4        [German, Central European, Vegetarian Friendly]    621.0     4.0   \n",
       "...                                                  ...      ...     ...   \n",
       "39995  [Italian, Vegetarian Friendly, Vegan Options, ...    500.0     4.5   \n",
       "39996  [French, American, Bar, European, Vegetarian F...   6341.0     3.5   \n",
       "39997                                  [Japanese, Sushi]   1652.0     4.5   \n",
       "39998  [Polish, European, Eastern European, Central E...    641.0     4.0   \n",
       "39999                                          [Spanish]   4827.0     3.0   \n",
       "\n",
       "       Price Range  Number of Reviews  \\\n",
       "0              2.0              194.0   \n",
       "1              2.0               10.0   \n",
       "2              3.0              688.0   \n",
       "3              2.0                3.0   \n",
       "4              2.0               84.0   \n",
       "...            ...                ...   \n",
       "39995          2.0               79.0   \n",
       "39996          2.0              542.0   \n",
       "39997          2.0                4.0   \n",
       "39998          2.0               70.0   \n",
       "39999          2.0              260.0   \n",
       "\n",
       "                                                 Reviews  \\\n",
       "0      'Good food at your doorstep', 'A good hotel re...   \n",
       "1      'Unique cuisine', 'Delicious Nepalese food'], ...   \n",
       "2      'Catch up with friends', 'Not exceptional'], [...   \n",
       "3                                                   ], [   \n",
       "4      'Best place to try a Bavarian food', 'Nice bui...   \n",
       "...                                                  ...   \n",
       "39995  'The real Italian experience!', 'Wonderful foo...   \n",
       "39996  'Parisian atmosphere', 'Bit pricey but interes...   \n",
       "39997  'Good by swedish standards', 'A hidden jewel i...   \n",
       "39998  'Underground restaurant', 'Oldest Restaurant i...   \n",
       "39999  'Average', 'Nice an informal'], ['01/31/2016',...   \n",
       "\n",
       "                                                  URL_TA     ID_TA  \\\n",
       "0      /Restaurant_Review-g187147-d1912643-Reviews-R_...  d1912643   \n",
       "1      /Restaurant_Review-g189852-d7992032-Reviews-Bu...  d7992032   \n",
       "2      /Restaurant_Review-g186338-d8632781-Reviews-RO...  d8632781   \n",
       "3      /Restaurant_Review-g187323-d1358776-Reviews-Es...  d1358776   \n",
       "4      /Restaurant_Review-g187309-d6864963-Reviews-Au...  d6864963   \n",
       "...                                                  ...       ...   \n",
       "39995  /Restaurant_Review-g187849-d2104414-Reviews-Ro...  d2104414   \n",
       "39996  /Restaurant_Review-g187147-d1800036-Reviews-La...  d1800036   \n",
       "39997  /Restaurant_Review-g189852-d947615-Reviews-Sus...   d947615   \n",
       "39998  /Restaurant_Review-g274856-d1100838-Reviews-Ho...  d1100838   \n",
       "39999  /Restaurant_Review-g187849-d1109020-Reviews-Ta...  d1109020   \n",
       "\n",
       "       popular_cuisine  count_cuisine                    Reviews_pat  \\\n",
       "0              14834.0            3.0  [12/31/2017, 11/20/2017, nan]   \n",
       "1              11666.0            4.0  [07/06/2017, 06/19/2016, nan]   \n",
       "2              25909.0            7.0  [01/08/2018, 01/06/2018, nan]   \n",
       "3              11666.0            4.0                [nan, nan, nan]   \n",
       "4              13244.0            3.0  [11/18/2017, 02/19/2017, nan]   \n",
       "...                ...            ...                            ...   \n",
       "39995          25752.0            4.0  [12/16/2017, 11/12/2017, nan]   \n",
       "39996          29051.0            5.0  [12/21/2017, 12/12/2017, nan]   \n",
       "39997           2620.0            2.0  [11/03/2016, 04/12/2008, nan]   \n",
       "39998          23503.0            5.0  [07/11/2017, 06/18/2017, nan]   \n",
       "39999           2798.0            1.0  [01/31/2016, 07/04/2012, nan]   \n",
       "\n",
       "       Reviews_1  Reviews_2 Reviews_3  Reviews_delta  \n",
       "0     2017-12-31 2017-11-20       NaN             41  \n",
       "1     2017-07-06 2016-06-19       NaN            382  \n",
       "2     2018-01-08 2018-01-06       NaN              2  \n",
       "3            NaT        NaT       NaN             55  \n",
       "4     2017-11-18 2017-02-19       NaN            272  \n",
       "...          ...        ...       ...            ...  \n",
       "39995 2017-12-16 2017-11-12       NaN             34  \n",
       "39996 2017-12-21 2017-12-12       NaN              9  \n",
       "39997 2016-11-03 2008-04-12       NaN           3127  \n",
       "39998 2017-07-11 2017-06-18       NaN             23  \n",
       "39999 2016-01-31 2012-07-04       NaN           1306  \n",
       "\n",
       "[40000 rows x 17 columns]"
      ]
     },
     "execution_count": 31,
     "metadata": {},
     "output_type": "execute_result"
    }
   ],
   "source": [
    "main"
   ]
  },
  {
   "cell_type": "code",
   "execution_count": 32,
   "metadata": {},
   "outputs": [
    {
     "data": {
      "text/plain": [
       "2543"
      ]
     },
     "execution_count": 32,
     "metadata": {},
     "output_type": "execute_result"
    }
   ],
   "source": [
    "main['Number of Reviews'].isna().sum()"
   ]
  },
  {
   "cell_type": "code",
   "execution_count": 33,
   "metadata": {
    "scrolled": false
   },
   "outputs": [
    {
     "name": "stdout",
     "output_type": "stream",
     "text": [
      "<class 'pandas.core.frame.DataFrame'>\n",
      "RangeIndex: 40000 entries, 0 to 39999\n",
      "Data columns (total 17 columns):\n",
      " #   Column             Non-Null Count  Dtype         \n",
      "---  ------             --------------  -----         \n",
      " 0   Restaurant_id      40000 non-null  object        \n",
      " 1   City               40000 non-null  object        \n",
      " 2   Cuisine Style      30717 non-null  object        \n",
      " 3   Ranking            40000 non-null  float64       \n",
      " 4   Rating             40000 non-null  float64       \n",
      " 5   Price Range        40000 non-null  float64       \n",
      " 6   Number of Reviews  37457 non-null  float64       \n",
      " 7   Reviews            40000 non-null  object        \n",
      " 8   URL_TA             40000 non-null  object        \n",
      " 9   ID_TA              40000 non-null  object        \n",
      " 10  popular_cuisine    40000 non-null  float64       \n",
      " 11  count_cuisine      40000 non-null  float64       \n",
      " 12  Reviews_pat        40000 non-null  object        \n",
      " 13  Reviews_1          33528 non-null  datetime64[ns]\n",
      " 14  Reviews_2          28973 non-null  datetime64[ns]\n",
      " 15  Reviews_3          1 non-null      object        \n",
      " 16  Reviews_delta      40000 non-null  int64         \n",
      "dtypes: datetime64[ns](2), float64(6), int64(1), object(8)\n",
      "memory usage: 5.2+ MB\n"
     ]
    }
   ],
   "source": [
    "main.info()"
   ]
  },
  {
   "cell_type": "code",
   "execution_count": 34,
   "metadata": {},
   "outputs": [
    {
     "data": {
      "text/plain": [
       "count    37457.000000\n",
       "mean       124.825480\n",
       "std        295.666352\n",
       "min          2.000000\n",
       "25%          9.000000\n",
       "50%         33.000000\n",
       "75%        115.000000\n",
       "max       9660.000000\n",
       "Name: Number of Reviews, dtype: float64"
      ]
     },
     "execution_count": 34,
     "metadata": {},
     "output_type": "execute_result"
    },
    {
     "data": {
      "image/png": "[encoded data removed]",
      "text/plain": [
       "<Figure size 432x288 with 1 Axes>"
      ]
     },
     "metadata": {
      "needs_background": "light"
     },
     "output_type": "display_data"
    }
   ],
   "source": [
    "main['Number of Reviews'].hist()\n",
    "main['Number of Reviews'].describe()"
   ]
  },
  {
   "cell_type": "code",
   "execution_count": 35,
   "metadata": {},
   "outputs": [
    {
     "data": {
      "text/plain": [
       "count    40000.000000\n",
       "mean       118.987675\n",
       "std        286.989212\n",
       "min          2.000000\n",
       "25%         10.000000\n",
       "50%         33.000000\n",
       "75%        105.000000\n",
       "max       9660.000000\n",
       "Name: Number of Reviews, dtype: float64"
      ]
     },
     "execution_count": 35,
     "metadata": {},
     "output_type": "execute_result"
    },
    {
     "data": {
      "image/png": "[encoded data removed]",
      "text/plain": [
       "<Figure size 432x288 with 1 Axes>"
      ]
     },
     "metadata": {
      "needs_background": "light"
     },
     "output_type": "display_data"
    }
   ],
   "source": [
    "main['Number of Reviews'] = main['Number of Reviews'].fillna(main['Number of Reviews'].median())\n",
    "main['Number of Reviews'].hist()\n",
    "main['Number of Reviews'].describe()"
   ]
  },
  {
   "cell_type": "code",
   "execution_count": 36,
   "metadata": {},
   "outputs": [
    {
     "data": {
      "text/plain": [
       "array([4.18 , 3.95 , 3.8  , ..., 3.925, 4.165, 2.205])"
      ]
     },
     "execution_count": 36,
     "metadata": {},
     "output_type": "execute_result"
    }
   ],
   "source": [
    "X = main.drop(['Restaurant_id', 'Rating', 'City', 'Cuisine Style', 'Reviews', 'URL_TA', 'ID_TA', 'Reviews_pat', 'Reviews_3', 'Reviews_1', 'Reviews_2' ], axis = 1)  \n",
    "y = main['Rating']\n",
    "    # Загружаем специальный инструмент для разбивки:  \n",
    "from sklearn.model_selection import train_test_split  \n",
    "      \n",
    "    # Наборы данных с меткой \"train\" будут использоваться для обучения модели, \"test\" - для тестирования.  \n",
    "    # Для тестирования мы будем использовать 25% от исходного датасета.  \n",
    "X_train, X_test, y_train, y_test = train_test_split(X, y, test_size=0.25)\n",
    "        # Импортируем необходимые библиотеки:  \n",
    "from sklearn.ensemble import RandomForestRegressor # инструмент для создания и обучения модели  \n",
    "from sklearn import metrics # инструменты для оценки точности модели  \n",
    "      \n",
    "    # Создаём модель  \n",
    "regr = RandomForestRegressor(n_estimators=100)  \n",
    "      \n",
    "    # Обучаем модель на тестовом наборе данных  \n",
    "regr.fit(X_train, y_train)  \n",
    "      \n",
    "    # Используем обученную модель для предсказания рейтинга ресторанов в тестовой выборке.  \n",
    "    # Предсказанные значения записываем в переменную y_pred  \n",
    "y_pred = regr.predict(X_test)  \n",
    "y_pred"
   ]
  },
  {
   "cell_type": "code",
   "execution_count": 37,
   "metadata": {
    "scrolled": true
   },
   "outputs": [
    {
     "data": {
      "text/html": [
       "<div>\n",
       "<style scoped>\n",
       "    .dataframe tbody tr th:only-of-type {\n",
       "        vertical-align: middle;\n",
       "    }\n",
       "\n",
       "    .dataframe tbody tr th {\n",
       "        vertical-align: top;\n",
       "    }\n",
       "\n",
       "    .dataframe thead th {\n",
       "        text-align: right;\n",
       "    }\n",
       "</style>\n",
       "<table border=\"1\" class=\"dataframe\">\n",
       "  <thead>\n",
       "    <tr style=\"text-align: right;\">\n",
       "      <th></th>\n",
       "      <th>Ranking</th>\n",
       "      <th>Price Range</th>\n",
       "      <th>Number of Reviews</th>\n",
       "      <th>popular_cuisine</th>\n",
       "      <th>count_cuisine</th>\n",
       "      <th>Reviews_delta</th>\n",
       "    </tr>\n",
       "  </thead>\n",
       "  <tbody>\n",
       "    <tr>\n",
       "      <th>0</th>\n",
       "      <td>5570.0</td>\n",
       "      <td>2.0</td>\n",
       "      <td>194.0</td>\n",
       "      <td>14834.0</td>\n",
       "      <td>3.0</td>\n",
       "      <td>41</td>\n",
       "    </tr>\n",
       "    <tr>\n",
       "      <th>1</th>\n",
       "      <td>1537.0</td>\n",
       "      <td>2.0</td>\n",
       "      <td>10.0</td>\n",
       "      <td>11666.0</td>\n",
       "      <td>4.0</td>\n",
       "      <td>382</td>\n",
       "    </tr>\n",
       "    <tr>\n",
       "      <th>2</th>\n",
       "      <td>353.0</td>\n",
       "      <td>3.0</td>\n",
       "      <td>688.0</td>\n",
       "      <td>25909.0</td>\n",
       "      <td>7.0</td>\n",
       "      <td>2</td>\n",
       "    </tr>\n",
       "    <tr>\n",
       "      <th>3</th>\n",
       "      <td>3458.0</td>\n",
       "      <td>2.0</td>\n",
       "      <td>3.0</td>\n",
       "      <td>11666.0</td>\n",
       "      <td>4.0</td>\n",
       "      <td>55</td>\n",
       "    </tr>\n",
       "    <tr>\n",
       "      <th>4</th>\n",
       "      <td>621.0</td>\n",
       "      <td>2.0</td>\n",
       "      <td>84.0</td>\n",
       "      <td>13244.0</td>\n",
       "      <td>3.0</td>\n",
       "      <td>272</td>\n",
       "    </tr>\n",
       "    <tr>\n",
       "      <th>...</th>\n",
       "      <td>...</td>\n",
       "      <td>...</td>\n",
       "      <td>...</td>\n",
       "      <td>...</td>\n",
       "      <td>...</td>\n",
       "      <td>...</td>\n",
       "    </tr>\n",
       "    <tr>\n",
       "      <th>39995</th>\n",
       "      <td>500.0</td>\n",
       "      <td>2.0</td>\n",
       "      <td>79.0</td>\n",
       "      <td>25752.0</td>\n",
       "      <td>4.0</td>\n",
       "      <td>34</td>\n",
       "    </tr>\n",
       "    <tr>\n",
       "      <th>39996</th>\n",
       "      <td>6341.0</td>\n",
       "      <td>2.0</td>\n",
       "      <td>542.0</td>\n",
       "      <td>29051.0</td>\n",
       "      <td>5.0</td>\n",
       "      <td>9</td>\n",
       "    </tr>\n",
       "    <tr>\n",
       "      <th>39997</th>\n",
       "      <td>1652.0</td>\n",
       "      <td>2.0</td>\n",
       "      <td>4.0</td>\n",
       "      <td>2620.0</td>\n",
       "      <td>2.0</td>\n",
       "      <td>3127</td>\n",
       "    </tr>\n",
       "    <tr>\n",
       "      <th>39998</th>\n",
       "      <td>641.0</td>\n",
       "      <td>2.0</td>\n",
       "      <td>70.0</td>\n",
       "      <td>23503.0</td>\n",
       "      <td>5.0</td>\n",
       "      <td>23</td>\n",
       "    </tr>\n",
       "    <tr>\n",
       "      <th>39999</th>\n",
       "      <td>4827.0</td>\n",
       "      <td>2.0</td>\n",
       "      <td>260.0</td>\n",
       "      <td>2798.0</td>\n",
       "      <td>1.0</td>\n",
       "      <td>1306</td>\n",
       "    </tr>\n",
       "  </tbody>\n",
       "</table>\n",
       "<p>40000 rows × 6 columns</p>\n",
       "</div>"
      ],
      "text/plain": [
       "       Ranking  Price Range  Number of Reviews  popular_cuisine  \\\n",
       "0       5570.0          2.0              194.0          14834.0   \n",
       "1       1537.0          2.0               10.0          11666.0   \n",
       "2        353.0          3.0              688.0          25909.0   \n",
       "3       3458.0          2.0                3.0          11666.0   \n",
       "4        621.0          2.0               84.0          13244.0   \n",
       "...        ...          ...                ...              ...   \n",
       "39995    500.0          2.0               79.0          25752.0   \n",
       "39996   6341.0          2.0              542.0          29051.0   \n",
       "39997   1652.0          2.0                4.0           2620.0   \n",
       "39998    641.0          2.0               70.0          23503.0   \n",
       "39999   4827.0          2.0              260.0           2798.0   \n",
       "\n",
       "       count_cuisine  Reviews_delta  \n",
       "0                3.0             41  \n",
       "1                4.0            382  \n",
       "2                7.0              2  \n",
       "3                4.0             55  \n",
       "4                3.0            272  \n",
       "...              ...            ...  \n",
       "39995            4.0             34  \n",
       "39996            5.0              9  \n",
       "39997            2.0           3127  \n",
       "39998            5.0             23  \n",
       "39999            1.0           1306  \n",
       "\n",
       "[40000 rows x 6 columns]"
      ]
     },
     "execution_count": 37,
     "metadata": {},
     "output_type": "execute_result"
    }
   ],
   "source": [
    "X"
   ]
  },
  {
   "cell_type": "code",
   "execution_count": 38,
   "metadata": {
    "scrolled": true
   },
   "outputs": [
    {
     "name": "stdout",
     "output_type": "stream",
     "text": [
      "<class 'pandas.core.frame.DataFrame'>\n",
      "RangeIndex: 40000 entries, 0 to 39999\n",
      "Data columns (total 6 columns):\n",
      " #   Column             Non-Null Count  Dtype  \n",
      "---  ------             --------------  -----  \n",
      " 0   Ranking            40000 non-null  float64\n",
      " 1   Price Range        40000 non-null  float64\n",
      " 2   Number of Reviews  40000 non-null  float64\n",
      " 3   popular_cuisine    40000 non-null  float64\n",
      " 4   count_cuisine      40000 non-null  float64\n",
      " 5   Reviews_delta      40000 non-null  int64  \n",
      "dtypes: float64(5), int64(1)\n",
      "memory usage: 1.8 MB\n"
     ]
    }
   ],
   "source": [
    "X.info()"
   ]
  },
  {
   "cell_type": "code",
   "execution_count": 39,
   "metadata": {},
   "outputs": [
    {
     "data": {
      "text/plain": [
       "0        3.5\n",
       "1        4.0\n",
       "2        4.5\n",
       "3        5.0\n",
       "4        4.0\n",
       "        ... \n",
       "39995    4.5\n",
       "39996    3.5\n",
       "39997    4.5\n",
       "39998    4.0\n",
       "39999    3.0\n",
       "Name: Rating, Length: 40000, dtype: float64"
      ]
     },
     "execution_count": 39,
     "metadata": {},
     "output_type": "execute_result"
    }
   ],
   "source": [
    "y"
   ]
  },
  {
   "cell_type": "code",
   "execution_count": 40,
   "metadata": {},
   "outputs": [
    {
     "name": "stdout",
     "output_type": "stream",
     "text": [
      "MAE: 0.3782563857142857\n"
     ]
    }
   ],
   "source": [
    "print('MAE:', metrics.mean_absolute_error(y_test, y_pred))"
   ]
  },
  {
   "cell_type": "code",
   "execution_count": 41,
   "metadata": {},
   "outputs": [],
   "source": [
    "del(main['Reviews_3'])"
   ]
  },
  {
   "cell_type": "code",
   "execution_count": 42,
   "metadata": {},
   "outputs": [
    {
     "data": {
      "text/html": [
       "<div>\n",
       "<style scoped>\n",
       "    .dataframe tbody tr th:only-of-type {\n",
       "        vertical-align: middle;\n",
       "    }\n",
       "\n",
       "    .dataframe tbody tr th {\n",
       "        vertical-align: top;\n",
       "    }\n",
       "\n",
       "    .dataframe thead th {\n",
       "        text-align: right;\n",
       "    }\n",
       "</style>\n",
       "<table border=\"1\" class=\"dataframe\">\n",
       "  <thead>\n",
       "    <tr style=\"text-align: right;\">\n",
       "      <th></th>\n",
       "      <th>Restaurant_id</th>\n",
       "      <th>City</th>\n",
       "      <th>Cuisine Style</th>\n",
       "      <th>Ranking</th>\n",
       "      <th>Rating</th>\n",
       "      <th>Price Range</th>\n",
       "      <th>Number of Reviews</th>\n",
       "      <th>Reviews</th>\n",
       "      <th>URL_TA</th>\n",
       "      <th>ID_TA</th>\n",
       "      <th>popular_cuisine</th>\n",
       "      <th>count_cuisine</th>\n",
       "      <th>Reviews_pat</th>\n",
       "      <th>Reviews_1</th>\n",
       "      <th>Reviews_2</th>\n",
       "      <th>Reviews_delta</th>\n",
       "    </tr>\n",
       "  </thead>\n",
       "  <tbody>\n",
       "    <tr>\n",
       "      <th>0</th>\n",
       "      <td>id_5569</td>\n",
       "      <td>Paris</td>\n",
       "      <td>[European, French, International]</td>\n",
       "      <td>5570.0</td>\n",
       "      <td>3.5</td>\n",
       "      <td>2.0</td>\n",
       "      <td>194.0</td>\n",
       "      <td>'Good food at your doorstep', 'A good hotel re...</td>\n",
       "      <td>/Restaurant_Review-g187147-d1912643-Reviews-R_...</td>\n",
       "      <td>d1912643</td>\n",
       "      <td>14834.0</td>\n",
       "      <td>3.0</td>\n",
       "      <td>[12/31/2017, 11/20/2017, nan]</td>\n",
       "      <td>2017-12-31</td>\n",
       "      <td>2017-11-20</td>\n",
       "      <td>41</td>\n",
       "    </tr>\n",
       "    <tr>\n",
       "      <th>1</th>\n",
       "      <td>id_1535</td>\n",
       "      <td>Stockholm</td>\n",
       "      <td>NaN</td>\n",
       "      <td>1537.0</td>\n",
       "      <td>4.0</td>\n",
       "      <td>2.0</td>\n",
       "      <td>10.0</td>\n",
       "      <td>'Unique cuisine', 'Delicious Nepalese food'], ...</td>\n",
       "      <td>/Restaurant_Review-g189852-d7992032-Reviews-Bu...</td>\n",
       "      <td>d7992032</td>\n",
       "      <td>11666.0</td>\n",
       "      <td>4.0</td>\n",
       "      <td>[07/06/2017, 06/19/2016, nan]</td>\n",
       "      <td>2017-07-06</td>\n",
       "      <td>2016-06-19</td>\n",
       "      <td>382</td>\n",
       "    </tr>\n",
       "    <tr>\n",
       "      <th>2</th>\n",
       "      <td>id_352</td>\n",
       "      <td>London</td>\n",
       "      <td>[Japanese, Sushi, Asian, Grill, Vegetarian Fri...</td>\n",
       "      <td>353.0</td>\n",
       "      <td>4.5</td>\n",
       "      <td>3.0</td>\n",
       "      <td>688.0</td>\n",
       "      <td>'Catch up with friends', 'Not exceptional'], [...</td>\n",
       "      <td>/Restaurant_Review-g186338-d8632781-Reviews-RO...</td>\n",
       "      <td>d8632781</td>\n",
       "      <td>25909.0</td>\n",
       "      <td>7.0</td>\n",
       "      <td>[01/08/2018, 01/06/2018, nan]</td>\n",
       "      <td>2018-01-08</td>\n",
       "      <td>2018-01-06</td>\n",
       "      <td>2</td>\n",
       "    </tr>\n",
       "    <tr>\n",
       "      <th>3</th>\n",
       "      <td>id_3456</td>\n",
       "      <td>Berlin</td>\n",
       "      <td>NaN</td>\n",
       "      <td>3458.0</td>\n",
       "      <td>5.0</td>\n",
       "      <td>2.0</td>\n",
       "      <td>3.0</td>\n",
       "      <td>], [</td>\n",
       "      <td>/Restaurant_Review-g187323-d1358776-Reviews-Es...</td>\n",
       "      <td>d1358776</td>\n",
       "      <td>11666.0</td>\n",
       "      <td>4.0</td>\n",
       "      <td>[nan, nan, nan]</td>\n",
       "      <td>NaT</td>\n",
       "      <td>NaT</td>\n",
       "      <td>55</td>\n",
       "    </tr>\n",
       "    <tr>\n",
       "      <th>4</th>\n",
       "      <td>id_615</td>\n",
       "      <td>Munich</td>\n",
       "      <td>[German, Central European, Vegetarian Friendly]</td>\n",
       "      <td>621.0</td>\n",
       "      <td>4.0</td>\n",
       "      <td>2.0</td>\n",
       "      <td>84.0</td>\n",
       "      <td>'Best place to try a Bavarian food', 'Nice bui...</td>\n",
       "      <td>/Restaurant_Review-g187309-d6864963-Reviews-Au...</td>\n",
       "      <td>d6864963</td>\n",
       "      <td>13244.0</td>\n",
       "      <td>3.0</td>\n",
       "      <td>[11/18/2017, 02/19/2017, nan]</td>\n",
       "      <td>2017-11-18</td>\n",
       "      <td>2017-02-19</td>\n",
       "      <td>272</td>\n",
       "    </tr>\n",
       "    <tr>\n",
       "      <th>...</th>\n",
       "      <td>...</td>\n",
       "      <td>...</td>\n",
       "      <td>...</td>\n",
       "      <td>...</td>\n",
       "      <td>...</td>\n",
       "      <td>...</td>\n",
       "      <td>...</td>\n",
       "      <td>...</td>\n",
       "      <td>...</td>\n",
       "      <td>...</td>\n",
       "      <td>...</td>\n",
       "      <td>...</td>\n",
       "      <td>...</td>\n",
       "      <td>...</td>\n",
       "      <td>...</td>\n",
       "      <td>...</td>\n",
       "    </tr>\n",
       "    <tr>\n",
       "      <th>39995</th>\n",
       "      <td>id_499</td>\n",
       "      <td>Milan</td>\n",
       "      <td>[Italian, Vegetarian Friendly, Vegan Options, ...</td>\n",
       "      <td>500.0</td>\n",
       "      <td>4.5</td>\n",
       "      <td>2.0</td>\n",
       "      <td>79.0</td>\n",
       "      <td>'The real Italian experience!', 'Wonderful foo...</td>\n",
       "      <td>/Restaurant_Review-g187849-d2104414-Reviews-Ro...</td>\n",
       "      <td>d2104414</td>\n",
       "      <td>25752.0</td>\n",
       "      <td>4.0</td>\n",
       "      <td>[12/16/2017, 11/12/2017, nan]</td>\n",
       "      <td>2017-12-16</td>\n",
       "      <td>2017-11-12</td>\n",
       "      <td>34</td>\n",
       "    </tr>\n",
       "    <tr>\n",
       "      <th>39996</th>\n",
       "      <td>id_6340</td>\n",
       "      <td>Paris</td>\n",
       "      <td>[French, American, Bar, European, Vegetarian F...</td>\n",
       "      <td>6341.0</td>\n",
       "      <td>3.5</td>\n",
       "      <td>2.0</td>\n",
       "      <td>542.0</td>\n",
       "      <td>'Parisian atmosphere', 'Bit pricey but interes...</td>\n",
       "      <td>/Restaurant_Review-g187147-d1800036-Reviews-La...</td>\n",
       "      <td>d1800036</td>\n",
       "      <td>29051.0</td>\n",
       "      <td>5.0</td>\n",
       "      <td>[12/21/2017, 12/12/2017, nan]</td>\n",
       "      <td>2017-12-21</td>\n",
       "      <td>2017-12-12</td>\n",
       "      <td>9</td>\n",
       "    </tr>\n",
       "    <tr>\n",
       "      <th>39997</th>\n",
       "      <td>id_1649</td>\n",
       "      <td>Stockholm</td>\n",
       "      <td>[Japanese, Sushi]</td>\n",
       "      <td>1652.0</td>\n",
       "      <td>4.5</td>\n",
       "      <td>2.0</td>\n",
       "      <td>4.0</td>\n",
       "      <td>'Good by swedish standards', 'A hidden jewel i...</td>\n",
       "      <td>/Restaurant_Review-g189852-d947615-Reviews-Sus...</td>\n",
       "      <td>d947615</td>\n",
       "      <td>2620.0</td>\n",
       "      <td>2.0</td>\n",
       "      <td>[11/03/2016, 04/12/2008, nan]</td>\n",
       "      <td>2016-11-03</td>\n",
       "      <td>2008-04-12</td>\n",
       "      <td>3127</td>\n",
       "    </tr>\n",
       "    <tr>\n",
       "      <th>39998</th>\n",
       "      <td>id_640</td>\n",
       "      <td>Warsaw</td>\n",
       "      <td>[Polish, European, Eastern European, Central E...</td>\n",
       "      <td>641.0</td>\n",
       "      <td>4.0</td>\n",
       "      <td>2.0</td>\n",
       "      <td>70.0</td>\n",
       "      <td>'Underground restaurant', 'Oldest Restaurant i...</td>\n",
       "      <td>/Restaurant_Review-g274856-d1100838-Reviews-Ho...</td>\n",
       "      <td>d1100838</td>\n",
       "      <td>23503.0</td>\n",
       "      <td>5.0</td>\n",
       "      <td>[07/11/2017, 06/18/2017, nan]</td>\n",
       "      <td>2017-07-11</td>\n",
       "      <td>2017-06-18</td>\n",
       "      <td>23</td>\n",
       "    </tr>\n",
       "    <tr>\n",
       "      <th>39999</th>\n",
       "      <td>id_4824</td>\n",
       "      <td>Milan</td>\n",
       "      <td>[Spanish]</td>\n",
       "      <td>4827.0</td>\n",
       "      <td>3.0</td>\n",
       "      <td>2.0</td>\n",
       "      <td>260.0</td>\n",
       "      <td>'Average', 'Nice an informal'], ['01/31/2016',...</td>\n",
       "      <td>/Restaurant_Review-g187849-d1109020-Reviews-Ta...</td>\n",
       "      <td>d1109020</td>\n",
       "      <td>2798.0</td>\n",
       "      <td>1.0</td>\n",
       "      <td>[01/31/2016, 07/04/2012, nan]</td>\n",
       "      <td>2016-01-31</td>\n",
       "      <td>2012-07-04</td>\n",
       "      <td>1306</td>\n",
       "    </tr>\n",
       "  </tbody>\n",
       "</table>\n",
       "<p>40000 rows × 16 columns</p>\n",
       "</div>"
      ],
      "text/plain": [
       "      Restaurant_id       City  \\\n",
       "0           id_5569      Paris   \n",
       "1           id_1535  Stockholm   \n",
       "2            id_352     London   \n",
       "3           id_3456     Berlin   \n",
       "4            id_615     Munich   \n",
       "...             ...        ...   \n",
       "39995        id_499      Milan   \n",
       "39996       id_6340      Paris   \n",
       "39997       id_1649  Stockholm   \n",
       "39998        id_640     Warsaw   \n",
       "39999       id_4824      Milan   \n",
       "\n",
       "                                           Cuisine Style  Ranking  Rating  \\\n",
       "0                      [European, French, International]   5570.0     3.5   \n",
       "1                                                    NaN   1537.0     4.0   \n",
       "2      [Japanese, Sushi, Asian, Grill, Vegetarian Fri...    353.0     4.5   \n",
       "3                                                    NaN   3458.0     5.0   \n",
       "4        [German, Central European, Vegetarian Friendly]    621.0     4.0   \n",
       "...                                                  ...      ...     ...   \n",
       "39995  [Italian, Vegetarian Friendly, Vegan Options, ...    500.0     4.5   \n",
       "39996  [French, American, Bar, European, Vegetarian F...   6341.0     3.5   \n",
       "39997                                  [Japanese, Sushi]   1652.0     4.5   \n",
       "39998  [Polish, European, Eastern European, Central E...    641.0     4.0   \n",
       "39999                                          [Spanish]   4827.0     3.0   \n",
       "\n",
       "       Price Range  Number of Reviews  \\\n",
       "0              2.0              194.0   \n",
       "1              2.0               10.0   \n",
       "2              3.0              688.0   \n",
       "3              2.0                3.0   \n",
       "4              2.0               84.0   \n",
       "...            ...                ...   \n",
       "39995          2.0               79.0   \n",
       "39996          2.0              542.0   \n",
       "39997          2.0                4.0   \n",
       "39998          2.0               70.0   \n",
       "39999          2.0              260.0   \n",
       "\n",
       "                                                 Reviews  \\\n",
       "0      'Good food at your doorstep', 'A good hotel re...   \n",
       "1      'Unique cuisine', 'Delicious Nepalese food'], ...   \n",
       "2      'Catch up with friends', 'Not exceptional'], [...   \n",
       "3                                                   ], [   \n",
       "4      'Best place to try a Bavarian food', 'Nice bui...   \n",
       "...                                                  ...   \n",
       "39995  'The real Italian experience!', 'Wonderful foo...   \n",
       "39996  'Parisian atmosphere', 'Bit pricey but interes...   \n",
       "39997  'Good by swedish standards', 'A hidden jewel i...   \n",
       "39998  'Underground restaurant', 'Oldest Restaurant i...   \n",
       "39999  'Average', 'Nice an informal'], ['01/31/2016',...   \n",
       "\n",
       "                                                  URL_TA     ID_TA  \\\n",
       "0      /Restaurant_Review-g187147-d1912643-Reviews-R_...  d1912643   \n",
       "1      /Restaurant_Review-g189852-d7992032-Reviews-Bu...  d7992032   \n",
       "2      /Restaurant_Review-g186338-d8632781-Reviews-RO...  d8632781   \n",
       "3      /Restaurant_Review-g187323-d1358776-Reviews-Es...  d1358776   \n",
       "4      /Restaurant_Review-g187309-d6864963-Reviews-Au...  d6864963   \n",
       "...                                                  ...       ...   \n",
       "39995  /Restaurant_Review-g187849-d2104414-Reviews-Ro...  d2104414   \n",
       "39996  /Restaurant_Review-g187147-d1800036-Reviews-La...  d1800036   \n",
       "39997  /Restaurant_Review-g189852-d947615-Reviews-Sus...   d947615   \n",
       "39998  /Restaurant_Review-g274856-d1100838-Reviews-Ho...  d1100838   \n",
       "39999  /Restaurant_Review-g187849-d1109020-Reviews-Ta...  d1109020   \n",
       "\n",
       "       popular_cuisine  count_cuisine                    Reviews_pat  \\\n",
       "0              14834.0            3.0  [12/31/2017, 11/20/2017, nan]   \n",
       "1              11666.0            4.0  [07/06/2017, 06/19/2016, nan]   \n",
       "2              25909.0            7.0  [01/08/2018, 01/06/2018, nan]   \n",
       "3              11666.0            4.0                [nan, nan, nan]   \n",
       "4              13244.0            3.0  [11/18/2017, 02/19/2017, nan]   \n",
       "...                ...            ...                            ...   \n",
       "39995          25752.0            4.0  [12/16/2017, 11/12/2017, nan]   \n",
       "39996          29051.0            5.0  [12/21/2017, 12/12/2017, nan]   \n",
       "39997           2620.0            2.0  [11/03/2016, 04/12/2008, nan]   \n",
       "39998          23503.0            5.0  [07/11/2017, 06/18/2017, nan]   \n",
       "39999           2798.0            1.0  [01/31/2016, 07/04/2012, nan]   \n",
       "\n",
       "       Reviews_1  Reviews_2  Reviews_delta  \n",
       "0     2017-12-31 2017-11-20             41  \n",
       "1     2017-07-06 2016-06-19            382  \n",
       "2     2018-01-08 2018-01-06              2  \n",
       "3            NaT        NaT             55  \n",
       "4     2017-11-18 2017-02-19            272  \n",
       "...          ...        ...            ...  \n",
       "39995 2017-12-16 2017-11-12             34  \n",
       "39996 2017-12-21 2017-12-12              9  \n",
       "39997 2016-11-03 2008-04-12           3127  \n",
       "39998 2017-07-11 2017-06-18             23  \n",
       "39999 2016-01-31 2012-07-04           1306  \n",
       "\n",
       "[40000 rows x 16 columns]"
      ]
     },
     "execution_count": 42,
     "metadata": {},
     "output_type": "execute_result"
    }
   ],
   "source": [
    "main"
   ]
  },
  {
   "cell_type": "code",
   "execution_count": 43,
   "metadata": {},
   "outputs": [
    {
     "data": {
      "text/plain": [
       "Timestamp('2004-04-21 00:00:00')"
      ]
     },
     "execution_count": 43,
     "metadata": {},
     "output_type": "execute_result"
    }
   ],
   "source": [
    "main['Reviews_1'].min()"
   ]
  },
  {
   "cell_type": "code",
   "execution_count": 44,
   "metadata": {
    "scrolled": true
   },
   "outputs": [
    {
     "data": {
      "text/plain": [
       "0        5002.0\n",
       "1        4824.0\n",
       "2        5010.0\n",
       "3           NaN\n",
       "4        4959.0\n",
       "          ...  \n",
       "39995    4987.0\n",
       "39996    4992.0\n",
       "39997    4579.0\n",
       "39998    4829.0\n",
       "39999    4302.0\n",
       "Name: Reviews_1, Length: 40000, dtype: float64"
      ]
     },
     "execution_count": 44,
     "metadata": {},
     "output_type": "execute_result"
    }
   ],
   "source": [
    "main['Reviews_1'] = main['Reviews_1'] - main['Reviews_1'].min()\n",
    "main['Reviews_2'] = main['Reviews_2'] - main['Reviews_2'].min()\n",
    "main['Reviews_1'] = main['Reviews_1'].apply(lambda x:  x.days)\n",
    "main['Reviews_2'] = main['Reviews_2'].apply(lambda x:  x.days)\n",
    "main['Reviews_1']"
   ]
  },
  {
   "cell_type": "code",
   "execution_count": 45,
   "metadata": {},
   "outputs": [
    {
     "data": {
      "text/plain": [
       "count    33528.000000\n",
       "mean      4762.011960\n",
       "std        362.444711\n",
       "min          0.000000\n",
       "25%       4704.000000\n",
       "50%       4892.000000\n",
       "75%       4977.000000\n",
       "max       5059.000000\n",
       "Name: Reviews_1, dtype: float64"
      ]
     },
     "execution_count": 45,
     "metadata": {},
     "output_type": "execute_result"
    },
    {
     "data": {
      "image/png": "[encoded data removed]",
      "text/plain": [
       "<Figure size 432x288 with 1 Axes>"
      ]
     },
     "metadata": {
      "needs_background": "light"
     },
     "output_type": "display_data"
    }
   ],
   "source": [
    "main['Reviews_1'].hist()\n",
    "main['Reviews_1'].describe()"
   ]
  },
  {
   "cell_type": "code",
   "execution_count": 46,
   "metadata": {},
   "outputs": [
    {
     "data": {
      "text/plain": [
       "count    28973.000000\n",
       "mean      3390.761157\n",
       "std        396.620564\n",
       "min          0.000000\n",
       "25%       3291.000000\n",
       "50%       3527.000000\n",
       "75%       3640.000000\n",
       "max       3757.000000\n",
       "Name: Reviews_2, dtype: float64"
      ]
     },
     "execution_count": 46,
     "metadata": {},
     "output_type": "execute_result"
    },
    {
     "data": {
      "image/png": "[encoded data removed]",
      "text/plain": [
       "<Figure size 432x288 with 1 Axes>"
      ]
     },
     "metadata": {
      "needs_background": "light"
     },
     "output_type": "display_data"
    }
   ],
   "source": [
    "main['Reviews_2'].hist()\n",
    "main['Reviews_2'].describe()"
   ]
  },
  {
   "cell_type": "code",
   "execution_count": 47,
   "metadata": {},
   "outputs": [],
   "source": [
    "main['Reviews_1'] = main['Reviews_1'].fillna(0)\n",
    "main['Reviews_2'] = main['Reviews_2'].fillna(0)"
   ]
  },
  {
   "cell_type": "code",
   "execution_count": 48,
   "metadata": {
    "scrolled": true
   },
   "outputs": [
    {
     "data": {
      "text/plain": [
       "0        5002.0\n",
       "1        4824.0\n",
       "2        5010.0\n",
       "3           0.0\n",
       "4        4959.0\n",
       "          ...  \n",
       "39995    4987.0\n",
       "39996    4992.0\n",
       "39997    4579.0\n",
       "39998    4829.0\n",
       "39999    4302.0\n",
       "Name: Reviews_1, Length: 40000, dtype: float64"
      ]
     },
     "execution_count": 48,
     "metadata": {},
     "output_type": "execute_result"
    }
   ],
   "source": [
    "main['Reviews_1']"
   ]
  },
  {
   "cell_type": "code",
   "execution_count": 49,
   "metadata": {
    "scrolled": true
   },
   "outputs": [
    {
     "data": {
      "text/plain": [
       "0        3659.0\n",
       "1        3140.0\n",
       "2        3706.0\n",
       "3           0.0\n",
       "4        3385.0\n",
       "          ...  \n",
       "39995    3651.0\n",
       "39996    3681.0\n",
       "39997     150.0\n",
       "39998    3504.0\n",
       "39999    1694.0\n",
       "Name: Reviews_2, Length: 40000, dtype: float64"
      ]
     },
     "execution_count": 49,
     "metadata": {},
     "output_type": "execute_result"
    }
   ],
   "source": [
    "\n",
    "main['Reviews_2']"
   ]
  },
  {
   "cell_type": "code",
   "execution_count": 50,
   "metadata": {},
   "outputs": [
    {
     "data": {
      "text/plain": [
       "City\n",
       "Amsterdam     1086\n",
       "Athens         628\n",
       "Barcelona     2734\n",
       "Berlin        2155\n",
       "Bratislava     301\n",
       "Brussels      1060\n",
       "Budapest       816\n",
       "Copenhagen     659\n",
       "Dublin         673\n",
       "Edinburgh      596\n",
       "Geneva         481\n",
       "Hamburg        949\n",
       "Helsinki       376\n",
       "Krakow         443\n",
       "Lisbon        1300\n",
       "Ljubljana      183\n",
       "London        5757\n",
       "Luxembourg     210\n",
       "Lyon           892\n",
       "Madrid        3108\n",
       "Milan         2133\n",
       "Munich         893\n",
       "Oporto         513\n",
       "Oslo           385\n",
       "Paris         4897\n",
       "Prague        1443\n",
       "Rome          2078\n",
       "Stockholm      820\n",
       "Vienna        1166\n",
       "Warsaw         727\n",
       "Zurich         538\n",
       "Name: Ranking, dtype: int64"
      ]
     },
     "execution_count": 50,
     "metadata": {},
     "output_type": "execute_result"
    }
   ],
   "source": [
    "a = main.groupby(['City'])['Ranking'].count()\n",
    "a"
   ]
  },
  {
   "cell_type": "code",
   "execution_count": 51,
   "metadata": {},
   "outputs": [
    {
     "data": {
      "text/plain": [
       "1290.3225806451612"
      ]
     },
     "execution_count": 51,
     "metadata": {},
     "output_type": "execute_result"
    }
   ],
   "source": [
    "b = main.groupby(['City'])['Ranking'].count().mean()\n",
    "b"
   ]
  },
  {
   "cell_type": "code",
   "execution_count": 52,
   "metadata": {
    "scrolled": true
   },
   "outputs": [
    {
     "data": {
      "text/plain": [
       "City\n",
       "Amsterdam     0.841650\n",
       "Athens        0.486700\n",
       "Barcelona     2.118850\n",
       "Berlin        1.670125\n",
       "Bratislava    0.233275\n",
       "Brussels      0.821500\n",
       "Budapest      0.632400\n",
       "Copenhagen    0.510725\n",
       "Dublin        0.521575\n",
       "Edinburgh     0.461900\n",
       "Geneva        0.372775\n",
       "Hamburg       0.735475\n",
       "Helsinki      0.291400\n",
       "Krakow        0.343325\n",
       "Lisbon        1.007500\n",
       "Ljubljana     0.141825\n",
       "London        4.461675\n",
       "Luxembourg    0.162750\n",
       "Lyon          0.691300\n",
       "Madrid        2.408700\n",
       "Milan         1.653075\n",
       "Munich        0.692075\n",
       "Oporto        0.397575\n",
       "Oslo          0.298375\n",
       "Paris         3.795175\n",
       "Prague        1.118325\n",
       "Rome          1.610450\n",
       "Stockholm     0.635500\n",
       "Vienna        0.903650\n",
       "Warsaw        0.563425\n",
       "Zurich        0.416950\n",
       "Name: Ranking, dtype: float64"
      ]
     },
     "execution_count": 52,
     "metadata": {},
     "output_type": "execute_result"
    }
   ],
   "source": [
    "w = pd.Series(a/b)                                   \n",
    "w"
   ]
  },
  {
   "cell_type": "code",
   "execution_count": null,
   "metadata": {},
   "outputs": [],
   "source": []
  },
  {
   "cell_type": "code",
   "execution_count": 53,
   "metadata": {},
   "outputs": [
    {
     "data": {
      "text/html": [
       "<div>\n",
       "<style scoped>\n",
       "    .dataframe tbody tr th:only-of-type {\n",
       "        vertical-align: middle;\n",
       "    }\n",
       "\n",
       "    .dataframe tbody tr th {\n",
       "        vertical-align: top;\n",
       "    }\n",
       "\n",
       "    .dataframe thead th {\n",
       "        text-align: right;\n",
       "    }\n",
       "</style>\n",
       "<table border=\"1\" class=\"dataframe\">\n",
       "  <thead>\n",
       "    <tr style=\"text-align: right;\">\n",
       "      <th></th>\n",
       "      <th>Restaurant_id</th>\n",
       "      <th>City</th>\n",
       "      <th>Cuisine Style</th>\n",
       "      <th>Ranking</th>\n",
       "      <th>Rating</th>\n",
       "      <th>Price Range</th>\n",
       "      <th>Number of Reviews</th>\n",
       "      <th>Reviews</th>\n",
       "      <th>URL_TA</th>\n",
       "      <th>ID_TA</th>\n",
       "      <th>popular_cuisine</th>\n",
       "      <th>count_cuisine</th>\n",
       "      <th>Reviews_pat</th>\n",
       "      <th>Reviews_1</th>\n",
       "      <th>Reviews_2</th>\n",
       "      <th>Reviews_delta</th>\n",
       "    </tr>\n",
       "  </thead>\n",
       "  <tbody>\n",
       "    <tr>\n",
       "      <th>0</th>\n",
       "      <td>id_5569</td>\n",
       "      <td>Paris</td>\n",
       "      <td>[European, French, International]</td>\n",
       "      <td>5570.0</td>\n",
       "      <td>3.5</td>\n",
       "      <td>2.0</td>\n",
       "      <td>194.0</td>\n",
       "      <td>'Good food at your doorstep', 'A good hotel re...</td>\n",
       "      <td>/Restaurant_Review-g187147-d1912643-Reviews-R_...</td>\n",
       "      <td>d1912643</td>\n",
       "      <td>14834.0</td>\n",
       "      <td>3.0</td>\n",
       "      <td>[12/31/2017, 11/20/2017, nan]</td>\n",
       "      <td>5002.0</td>\n",
       "      <td>3659.0</td>\n",
       "      <td>41</td>\n",
       "    </tr>\n",
       "    <tr>\n",
       "      <th>1</th>\n",
       "      <td>id_1535</td>\n",
       "      <td>Stockholm</td>\n",
       "      <td>NaN</td>\n",
       "      <td>1537.0</td>\n",
       "      <td>4.0</td>\n",
       "      <td>2.0</td>\n",
       "      <td>10.0</td>\n",
       "      <td>'Unique cuisine', 'Delicious Nepalese food'], ...</td>\n",
       "      <td>/Restaurant_Review-g189852-d7992032-Reviews-Bu...</td>\n",
       "      <td>d7992032</td>\n",
       "      <td>11666.0</td>\n",
       "      <td>4.0</td>\n",
       "      <td>[07/06/2017, 06/19/2016, nan]</td>\n",
       "      <td>4824.0</td>\n",
       "      <td>3140.0</td>\n",
       "      <td>382</td>\n",
       "    </tr>\n",
       "    <tr>\n",
       "      <th>2</th>\n",
       "      <td>id_352</td>\n",
       "      <td>London</td>\n",
       "      <td>[Japanese, Sushi, Asian, Grill, Vegetarian Fri...</td>\n",
       "      <td>353.0</td>\n",
       "      <td>4.5</td>\n",
       "      <td>3.0</td>\n",
       "      <td>688.0</td>\n",
       "      <td>'Catch up with friends', 'Not exceptional'], [...</td>\n",
       "      <td>/Restaurant_Review-g186338-d8632781-Reviews-RO...</td>\n",
       "      <td>d8632781</td>\n",
       "      <td>25909.0</td>\n",
       "      <td>7.0</td>\n",
       "      <td>[01/08/2018, 01/06/2018, nan]</td>\n",
       "      <td>5010.0</td>\n",
       "      <td>3706.0</td>\n",
       "      <td>2</td>\n",
       "    </tr>\n",
       "    <tr>\n",
       "      <th>3</th>\n",
       "      <td>id_3456</td>\n",
       "      <td>Berlin</td>\n",
       "      <td>NaN</td>\n",
       "      <td>3458.0</td>\n",
       "      <td>5.0</td>\n",
       "      <td>2.0</td>\n",
       "      <td>3.0</td>\n",
       "      <td>], [</td>\n",
       "      <td>/Restaurant_Review-g187323-d1358776-Reviews-Es...</td>\n",
       "      <td>d1358776</td>\n",
       "      <td>11666.0</td>\n",
       "      <td>4.0</td>\n",
       "      <td>[nan, nan, nan]</td>\n",
       "      <td>0.0</td>\n",
       "      <td>0.0</td>\n",
       "      <td>55</td>\n",
       "    </tr>\n",
       "    <tr>\n",
       "      <th>4</th>\n",
       "      <td>id_615</td>\n",
       "      <td>Munich</td>\n",
       "      <td>[German, Central European, Vegetarian Friendly]</td>\n",
       "      <td>621.0</td>\n",
       "      <td>4.0</td>\n",
       "      <td>2.0</td>\n",
       "      <td>84.0</td>\n",
       "      <td>'Best place to try a Bavarian food', 'Nice bui...</td>\n",
       "      <td>/Restaurant_Review-g187309-d6864963-Reviews-Au...</td>\n",
       "      <td>d6864963</td>\n",
       "      <td>13244.0</td>\n",
       "      <td>3.0</td>\n",
       "      <td>[11/18/2017, 02/19/2017, nan]</td>\n",
       "      <td>4959.0</td>\n",
       "      <td>3385.0</td>\n",
       "      <td>272</td>\n",
       "    </tr>\n",
       "    <tr>\n",
       "      <th>...</th>\n",
       "      <td>...</td>\n",
       "      <td>...</td>\n",
       "      <td>...</td>\n",
       "      <td>...</td>\n",
       "      <td>...</td>\n",
       "      <td>...</td>\n",
       "      <td>...</td>\n",
       "      <td>...</td>\n",
       "      <td>...</td>\n",
       "      <td>...</td>\n",
       "      <td>...</td>\n",
       "      <td>...</td>\n",
       "      <td>...</td>\n",
       "      <td>...</td>\n",
       "      <td>...</td>\n",
       "      <td>...</td>\n",
       "    </tr>\n",
       "    <tr>\n",
       "      <th>39995</th>\n",
       "      <td>id_499</td>\n",
       "      <td>Milan</td>\n",
       "      <td>[Italian, Vegetarian Friendly, Vegan Options, ...</td>\n",
       "      <td>500.0</td>\n",
       "      <td>4.5</td>\n",
       "      <td>2.0</td>\n",
       "      <td>79.0</td>\n",
       "      <td>'The real Italian experience!', 'Wonderful foo...</td>\n",
       "      <td>/Restaurant_Review-g187849-d2104414-Reviews-Ro...</td>\n",
       "      <td>d2104414</td>\n",
       "      <td>25752.0</td>\n",
       "      <td>4.0</td>\n",
       "      <td>[12/16/2017, 11/12/2017, nan]</td>\n",
       "      <td>4987.0</td>\n",
       "      <td>3651.0</td>\n",
       "      <td>34</td>\n",
       "    </tr>\n",
       "    <tr>\n",
       "      <th>39996</th>\n",
       "      <td>id_6340</td>\n",
       "      <td>Paris</td>\n",
       "      <td>[French, American, Bar, European, Vegetarian F...</td>\n",
       "      <td>6341.0</td>\n",
       "      <td>3.5</td>\n",
       "      <td>2.0</td>\n",
       "      <td>542.0</td>\n",
       "      <td>'Parisian atmosphere', 'Bit pricey but interes...</td>\n",
       "      <td>/Restaurant_Review-g187147-d1800036-Reviews-La...</td>\n",
       "      <td>d1800036</td>\n",
       "      <td>29051.0</td>\n",
       "      <td>5.0</td>\n",
       "      <td>[12/21/2017, 12/12/2017, nan]</td>\n",
       "      <td>4992.0</td>\n",
       "      <td>3681.0</td>\n",
       "      <td>9</td>\n",
       "    </tr>\n",
       "    <tr>\n",
       "      <th>39997</th>\n",
       "      <td>id_1649</td>\n",
       "      <td>Stockholm</td>\n",
       "      <td>[Japanese, Sushi]</td>\n",
       "      <td>1652.0</td>\n",
       "      <td>4.5</td>\n",
       "      <td>2.0</td>\n",
       "      <td>4.0</td>\n",
       "      <td>'Good by swedish standards', 'A hidden jewel i...</td>\n",
       "      <td>/Restaurant_Review-g189852-d947615-Reviews-Sus...</td>\n",
       "      <td>d947615</td>\n",
       "      <td>2620.0</td>\n",
       "      <td>2.0</td>\n",
       "      <td>[11/03/2016, 04/12/2008, nan]</td>\n",
       "      <td>4579.0</td>\n",
       "      <td>150.0</td>\n",
       "      <td>3127</td>\n",
       "    </tr>\n",
       "    <tr>\n",
       "      <th>39998</th>\n",
       "      <td>id_640</td>\n",
       "      <td>Warsaw</td>\n",
       "      <td>[Polish, European, Eastern European, Central E...</td>\n",
       "      <td>641.0</td>\n",
       "      <td>4.0</td>\n",
       "      <td>2.0</td>\n",
       "      <td>70.0</td>\n",
       "      <td>'Underground restaurant', 'Oldest Restaurant i...</td>\n",
       "      <td>/Restaurant_Review-g274856-d1100838-Reviews-Ho...</td>\n",
       "      <td>d1100838</td>\n",
       "      <td>23503.0</td>\n",
       "      <td>5.0</td>\n",
       "      <td>[07/11/2017, 06/18/2017, nan]</td>\n",
       "      <td>4829.0</td>\n",
       "      <td>3504.0</td>\n",
       "      <td>23</td>\n",
       "    </tr>\n",
       "    <tr>\n",
       "      <th>39999</th>\n",
       "      <td>id_4824</td>\n",
       "      <td>Milan</td>\n",
       "      <td>[Spanish]</td>\n",
       "      <td>4827.0</td>\n",
       "      <td>3.0</td>\n",
       "      <td>2.0</td>\n",
       "      <td>260.0</td>\n",
       "      <td>'Average', 'Nice an informal'], ['01/31/2016',...</td>\n",
       "      <td>/Restaurant_Review-g187849-d1109020-Reviews-Ta...</td>\n",
       "      <td>d1109020</td>\n",
       "      <td>2798.0</td>\n",
       "      <td>1.0</td>\n",
       "      <td>[01/31/2016, 07/04/2012, nan]</td>\n",
       "      <td>4302.0</td>\n",
       "      <td>1694.0</td>\n",
       "      <td>1306</td>\n",
       "    </tr>\n",
       "  </tbody>\n",
       "</table>\n",
       "<p>40000 rows × 16 columns</p>\n",
       "</div>"
      ],
      "text/plain": [
       "      Restaurant_id       City  \\\n",
       "0           id_5569      Paris   \n",
       "1           id_1535  Stockholm   \n",
       "2            id_352     London   \n",
       "3           id_3456     Berlin   \n",
       "4            id_615     Munich   \n",
       "...             ...        ...   \n",
       "39995        id_499      Milan   \n",
       "39996       id_6340      Paris   \n",
       "39997       id_1649  Stockholm   \n",
       "39998        id_640     Warsaw   \n",
       "39999       id_4824      Milan   \n",
       "\n",
       "                                           Cuisine Style  Ranking  Rating  \\\n",
       "0                      [European, French, International]   5570.0     3.5   \n",
       "1                                                    NaN   1537.0     4.0   \n",
       "2      [Japanese, Sushi, Asian, Grill, Vegetarian Fri...    353.0     4.5   \n",
       "3                                                    NaN   3458.0     5.0   \n",
       "4        [German, Central European, Vegetarian Friendly]    621.0     4.0   \n",
       "...                                                  ...      ...     ...   \n",
       "39995  [Italian, Vegetarian Friendly, Vegan Options, ...    500.0     4.5   \n",
       "39996  [French, American, Bar, European, Vegetarian F...   6341.0     3.5   \n",
       "39997                                  [Japanese, Sushi]   1652.0     4.5   \n",
       "39998  [Polish, European, Eastern European, Central E...    641.0     4.0   \n",
       "39999                                          [Spanish]   4827.0     3.0   \n",
       "\n",
       "       Price Range  Number of Reviews  \\\n",
       "0              2.0              194.0   \n",
       "1              2.0               10.0   \n",
       "2              3.0              688.0   \n",
       "3              2.0                3.0   \n",
       "4              2.0               84.0   \n",
       "...            ...                ...   \n",
       "39995          2.0               79.0   \n",
       "39996          2.0              542.0   \n",
       "39997          2.0                4.0   \n",
       "39998          2.0               70.0   \n",
       "39999          2.0              260.0   \n",
       "\n",
       "                                                 Reviews  \\\n",
       "0      'Good food at your doorstep', 'A good hotel re...   \n",
       "1      'Unique cuisine', 'Delicious Nepalese food'], ...   \n",
       "2      'Catch up with friends', 'Not exceptional'], [...   \n",
       "3                                                   ], [   \n",
       "4      'Best place to try a Bavarian food', 'Nice bui...   \n",
       "...                                                  ...   \n",
       "39995  'The real Italian experience!', 'Wonderful foo...   \n",
       "39996  'Parisian atmosphere', 'Bit pricey but interes...   \n",
       "39997  'Good by swedish standards', 'A hidden jewel i...   \n",
       "39998  'Underground restaurant', 'Oldest Restaurant i...   \n",
       "39999  'Average', 'Nice an informal'], ['01/31/2016',...   \n",
       "\n",
       "                                                  URL_TA     ID_TA  \\\n",
       "0      /Restaurant_Review-g187147-d1912643-Reviews-R_...  d1912643   \n",
       "1      /Restaurant_Review-g189852-d7992032-Reviews-Bu...  d7992032   \n",
       "2      /Restaurant_Review-g186338-d8632781-Reviews-RO...  d8632781   \n",
       "3      /Restaurant_Review-g187323-d1358776-Reviews-Es...  d1358776   \n",
       "4      /Restaurant_Review-g187309-d6864963-Reviews-Au...  d6864963   \n",
       "...                                                  ...       ...   \n",
       "39995  /Restaurant_Review-g187849-d2104414-Reviews-Ro...  d2104414   \n",
       "39996  /Restaurant_Review-g187147-d1800036-Reviews-La...  d1800036   \n",
       "39997  /Restaurant_Review-g189852-d947615-Reviews-Sus...   d947615   \n",
       "39998  /Restaurant_Review-g274856-d1100838-Reviews-Ho...  d1100838   \n",
       "39999  /Restaurant_Review-g187849-d1109020-Reviews-Ta...  d1109020   \n",
       "\n",
       "       popular_cuisine  count_cuisine                    Reviews_pat  \\\n",
       "0              14834.0            3.0  [12/31/2017, 11/20/2017, nan]   \n",
       "1              11666.0            4.0  [07/06/2017, 06/19/2016, nan]   \n",
       "2              25909.0            7.0  [01/08/2018, 01/06/2018, nan]   \n",
       "3              11666.0            4.0                [nan, nan, nan]   \n",
       "4              13244.0            3.0  [11/18/2017, 02/19/2017, nan]   \n",
       "...                ...            ...                            ...   \n",
       "39995          25752.0            4.0  [12/16/2017, 11/12/2017, nan]   \n",
       "39996          29051.0            5.0  [12/21/2017, 12/12/2017, nan]   \n",
       "39997           2620.0            2.0  [11/03/2016, 04/12/2008, nan]   \n",
       "39998          23503.0            5.0  [07/11/2017, 06/18/2017, nan]   \n",
       "39999           2798.0            1.0  [01/31/2016, 07/04/2012, nan]   \n",
       "\n",
       "       Reviews_1  Reviews_2  Reviews_delta  \n",
       "0         5002.0     3659.0             41  \n",
       "1         4824.0     3140.0            382  \n",
       "2         5010.0     3706.0              2  \n",
       "3            0.0        0.0             55  \n",
       "4         4959.0     3385.0            272  \n",
       "...          ...        ...            ...  \n",
       "39995     4987.0     3651.0             34  \n",
       "39996     4992.0     3681.0              9  \n",
       "39997     4579.0      150.0           3127  \n",
       "39998     4829.0     3504.0             23  \n",
       "39999     4302.0     1694.0           1306  \n",
       "\n",
       "[40000 rows x 16 columns]"
      ]
     },
     "execution_count": 53,
     "metadata": {},
     "output_type": "execute_result"
    }
   ],
   "source": [
    "main\n",
    "    "
   ]
  },
  {
   "cell_type": "code",
   "execution_count": 54,
   "metadata": {},
   "outputs": [
    {
     "data": {
      "text/plain": [
       "0        3.795175\n",
       "1        0.635500\n",
       "2        4.461675\n",
       "3        1.670125\n",
       "4        0.692075\n",
       "           ...   \n",
       "39995    1.653075\n",
       "39996    3.795175\n",
       "39997    0.635500\n",
       "39998    0.563425\n",
       "39999    1.653075\n",
       "Name: City_f, Length: 40000, dtype: float64"
      ]
     },
     "execution_count": 54,
     "metadata": {},
     "output_type": "execute_result"
    }
   ],
   "source": [
    "main['City_f'] = main['City'].apply(lambda x: w.loc[x])\n",
    "main['City_f']"
   ]
  },
  {
   "cell_type": "code",
   "execution_count": 55,
   "metadata": {},
   "outputs": [
    {
     "data": {
      "text/html": [
       "<div>\n",
       "<style scoped>\n",
       "    .dataframe tbody tr th:only-of-type {\n",
       "        vertical-align: middle;\n",
       "    }\n",
       "\n",
       "    .dataframe tbody tr th {\n",
       "        vertical-align: top;\n",
       "    }\n",
       "\n",
       "    .dataframe thead th {\n",
       "        text-align: right;\n",
       "    }\n",
       "</style>\n",
       "<table border=\"1\" class=\"dataframe\">\n",
       "  <thead>\n",
       "    <tr style=\"text-align: right;\">\n",
       "      <th></th>\n",
       "      <th>Restaurant_id</th>\n",
       "      <th>City</th>\n",
       "      <th>Cuisine Style</th>\n",
       "      <th>Ranking</th>\n",
       "      <th>Rating</th>\n",
       "      <th>Price Range</th>\n",
       "      <th>Number of Reviews</th>\n",
       "      <th>Reviews</th>\n",
       "      <th>URL_TA</th>\n",
       "      <th>ID_TA</th>\n",
       "      <th>popular_cuisine</th>\n",
       "      <th>count_cuisine</th>\n",
       "      <th>Reviews_pat</th>\n",
       "      <th>Reviews_1</th>\n",
       "      <th>Reviews_2</th>\n",
       "      <th>Reviews_delta</th>\n",
       "      <th>City_f</th>\n",
       "    </tr>\n",
       "  </thead>\n",
       "  <tbody>\n",
       "    <tr>\n",
       "      <th>0</th>\n",
       "      <td>id_5569</td>\n",
       "      <td>Paris</td>\n",
       "      <td>[European, French, International]</td>\n",
       "      <td>5570.0</td>\n",
       "      <td>3.5</td>\n",
       "      <td>2.0</td>\n",
       "      <td>194.0</td>\n",
       "      <td>'Good food at your doorstep', 'A good hotel re...</td>\n",
       "      <td>/Restaurant_Review-g187147-d1912643-Reviews-R_...</td>\n",
       "      <td>d1912643</td>\n",
       "      <td>14834.0</td>\n",
       "      <td>3.0</td>\n",
       "      <td>[12/31/2017, 11/20/2017, nan]</td>\n",
       "      <td>5002.0</td>\n",
       "      <td>3659.0</td>\n",
       "      <td>41</td>\n",
       "      <td>3.795175</td>\n",
       "    </tr>\n",
       "    <tr>\n",
       "      <th>1</th>\n",
       "      <td>id_1535</td>\n",
       "      <td>Stockholm</td>\n",
       "      <td>NaN</td>\n",
       "      <td>1537.0</td>\n",
       "      <td>4.0</td>\n",
       "      <td>2.0</td>\n",
       "      <td>10.0</td>\n",
       "      <td>'Unique cuisine', 'Delicious Nepalese food'], ...</td>\n",
       "      <td>/Restaurant_Review-g189852-d7992032-Reviews-Bu...</td>\n",
       "      <td>d7992032</td>\n",
       "      <td>11666.0</td>\n",
       "      <td>4.0</td>\n",
       "      <td>[07/06/2017, 06/19/2016, nan]</td>\n",
       "      <td>4824.0</td>\n",
       "      <td>3140.0</td>\n",
       "      <td>382</td>\n",
       "      <td>0.635500</td>\n",
       "    </tr>\n",
       "    <tr>\n",
       "      <th>2</th>\n",
       "      <td>id_352</td>\n",
       "      <td>London</td>\n",
       "      <td>[Japanese, Sushi, Asian, Grill, Vegetarian Fri...</td>\n",
       "      <td>353.0</td>\n",
       "      <td>4.5</td>\n",
       "      <td>3.0</td>\n",
       "      <td>688.0</td>\n",
       "      <td>'Catch up with friends', 'Not exceptional'], [...</td>\n",
       "      <td>/Restaurant_Review-g186338-d8632781-Reviews-RO...</td>\n",
       "      <td>d8632781</td>\n",
       "      <td>25909.0</td>\n",
       "      <td>7.0</td>\n",
       "      <td>[01/08/2018, 01/06/2018, nan]</td>\n",
       "      <td>5010.0</td>\n",
       "      <td>3706.0</td>\n",
       "      <td>2</td>\n",
       "      <td>4.461675</td>\n",
       "    </tr>\n",
       "    <tr>\n",
       "      <th>3</th>\n",
       "      <td>id_3456</td>\n",
       "      <td>Berlin</td>\n",
       "      <td>NaN</td>\n",
       "      <td>3458.0</td>\n",
       "      <td>5.0</td>\n",
       "      <td>2.0</td>\n",
       "      <td>3.0</td>\n",
       "      <td>], [</td>\n",
       "      <td>/Restaurant_Review-g187323-d1358776-Reviews-Es...</td>\n",
       "      <td>d1358776</td>\n",
       "      <td>11666.0</td>\n",
       "      <td>4.0</td>\n",
       "      <td>[nan, nan, nan]</td>\n",
       "      <td>0.0</td>\n",
       "      <td>0.0</td>\n",
       "      <td>55</td>\n",
       "      <td>1.670125</td>\n",
       "    </tr>\n",
       "    <tr>\n",
       "      <th>4</th>\n",
       "      <td>id_615</td>\n",
       "      <td>Munich</td>\n",
       "      <td>[German, Central European, Vegetarian Friendly]</td>\n",
       "      <td>621.0</td>\n",
       "      <td>4.0</td>\n",
       "      <td>2.0</td>\n",
       "      <td>84.0</td>\n",
       "      <td>'Best place to try a Bavarian food', 'Nice bui...</td>\n",
       "      <td>/Restaurant_Review-g187309-d6864963-Reviews-Au...</td>\n",
       "      <td>d6864963</td>\n",
       "      <td>13244.0</td>\n",
       "      <td>3.0</td>\n",
       "      <td>[11/18/2017, 02/19/2017, nan]</td>\n",
       "      <td>4959.0</td>\n",
       "      <td>3385.0</td>\n",
       "      <td>272</td>\n",
       "      <td>0.692075</td>\n",
       "    </tr>\n",
       "    <tr>\n",
       "      <th>...</th>\n",
       "      <td>...</td>\n",
       "      <td>...</td>\n",
       "      <td>...</td>\n",
       "      <td>...</td>\n",
       "      <td>...</td>\n",
       "      <td>...</td>\n",
       "      <td>...</td>\n",
       "      <td>...</td>\n",
       "      <td>...</td>\n",
       "      <td>...</td>\n",
       "      <td>...</td>\n",
       "      <td>...</td>\n",
       "      <td>...</td>\n",
       "      <td>...</td>\n",
       "      <td>...</td>\n",
       "      <td>...</td>\n",
       "      <td>...</td>\n",
       "    </tr>\n",
       "    <tr>\n",
       "      <th>39995</th>\n",
       "      <td>id_499</td>\n",
       "      <td>Milan</td>\n",
       "      <td>[Italian, Vegetarian Friendly, Vegan Options, ...</td>\n",
       "      <td>500.0</td>\n",
       "      <td>4.5</td>\n",
       "      <td>2.0</td>\n",
       "      <td>79.0</td>\n",
       "      <td>'The real Italian experience!', 'Wonderful foo...</td>\n",
       "      <td>/Restaurant_Review-g187849-d2104414-Reviews-Ro...</td>\n",
       "      <td>d2104414</td>\n",
       "      <td>25752.0</td>\n",
       "      <td>4.0</td>\n",
       "      <td>[12/16/2017, 11/12/2017, nan]</td>\n",
       "      <td>4987.0</td>\n",
       "      <td>3651.0</td>\n",
       "      <td>34</td>\n",
       "      <td>1.653075</td>\n",
       "    </tr>\n",
       "    <tr>\n",
       "      <th>39996</th>\n",
       "      <td>id_6340</td>\n",
       "      <td>Paris</td>\n",
       "      <td>[French, American, Bar, European, Vegetarian F...</td>\n",
       "      <td>6341.0</td>\n",
       "      <td>3.5</td>\n",
       "      <td>2.0</td>\n",
       "      <td>542.0</td>\n",
       "      <td>'Parisian atmosphere', 'Bit pricey but interes...</td>\n",
       "      <td>/Restaurant_Review-g187147-d1800036-Reviews-La...</td>\n",
       "      <td>d1800036</td>\n",
       "      <td>29051.0</td>\n",
       "      <td>5.0</td>\n",
       "      <td>[12/21/2017, 12/12/2017, nan]</td>\n",
       "      <td>4992.0</td>\n",
       "      <td>3681.0</td>\n",
       "      <td>9</td>\n",
       "      <td>3.795175</td>\n",
       "    </tr>\n",
       "    <tr>\n",
       "      <th>39997</th>\n",
       "      <td>id_1649</td>\n",
       "      <td>Stockholm</td>\n",
       "      <td>[Japanese, Sushi]</td>\n",
       "      <td>1652.0</td>\n",
       "      <td>4.5</td>\n",
       "      <td>2.0</td>\n",
       "      <td>4.0</td>\n",
       "      <td>'Good by swedish standards', 'A hidden jewel i...</td>\n",
       "      <td>/Restaurant_Review-g189852-d947615-Reviews-Sus...</td>\n",
       "      <td>d947615</td>\n",
       "      <td>2620.0</td>\n",
       "      <td>2.0</td>\n",
       "      <td>[11/03/2016, 04/12/2008, nan]</td>\n",
       "      <td>4579.0</td>\n",
       "      <td>150.0</td>\n",
       "      <td>3127</td>\n",
       "      <td>0.635500</td>\n",
       "    </tr>\n",
       "    <tr>\n",
       "      <th>39998</th>\n",
       "      <td>id_640</td>\n",
       "      <td>Warsaw</td>\n",
       "      <td>[Polish, European, Eastern European, Central E...</td>\n",
       "      <td>641.0</td>\n",
       "      <td>4.0</td>\n",
       "      <td>2.0</td>\n",
       "      <td>70.0</td>\n",
       "      <td>'Underground restaurant', 'Oldest Restaurant i...</td>\n",
       "      <td>/Restaurant_Review-g274856-d1100838-Reviews-Ho...</td>\n",
       "      <td>d1100838</td>\n",
       "      <td>23503.0</td>\n",
       "      <td>5.0</td>\n",
       "      <td>[07/11/2017, 06/18/2017, nan]</td>\n",
       "      <td>4829.0</td>\n",
       "      <td>3504.0</td>\n",
       "      <td>23</td>\n",
       "      <td>0.563425</td>\n",
       "    </tr>\n",
       "    <tr>\n",
       "      <th>39999</th>\n",
       "      <td>id_4824</td>\n",
       "      <td>Milan</td>\n",
       "      <td>[Spanish]</td>\n",
       "      <td>4827.0</td>\n",
       "      <td>3.0</td>\n",
       "      <td>2.0</td>\n",
       "      <td>260.0</td>\n",
       "      <td>'Average', 'Nice an informal'], ['01/31/2016',...</td>\n",
       "      <td>/Restaurant_Review-g187849-d1109020-Reviews-Ta...</td>\n",
       "      <td>d1109020</td>\n",
       "      <td>2798.0</td>\n",
       "      <td>1.0</td>\n",
       "      <td>[01/31/2016, 07/04/2012, nan]</td>\n",
       "      <td>4302.0</td>\n",
       "      <td>1694.0</td>\n",
       "      <td>1306</td>\n",
       "      <td>1.653075</td>\n",
       "    </tr>\n",
       "  </tbody>\n",
       "</table>\n",
       "<p>40000 rows × 17 columns</p>\n",
       "</div>"
      ],
      "text/plain": [
       "      Restaurant_id       City  \\\n",
       "0           id_5569      Paris   \n",
       "1           id_1535  Stockholm   \n",
       "2            id_352     London   \n",
       "3           id_3456     Berlin   \n",
       "4            id_615     Munich   \n",
       "...             ...        ...   \n",
       "39995        id_499      Milan   \n",
       "39996       id_6340      Paris   \n",
       "39997       id_1649  Stockholm   \n",
       "39998        id_640     Warsaw   \n",
       "39999       id_4824      Milan   \n",
       "\n",
       "                                           Cuisine Style  Ranking  Rating  \\\n",
       "0                      [European, French, International]   5570.0     3.5   \n",
       "1                                                    NaN   1537.0     4.0   \n",
       "2      [Japanese, Sushi, Asian, Grill, Vegetarian Fri...    353.0     4.5   \n",
       "3                                                    NaN   3458.0     5.0   \n",
       "4        [German, Central European, Vegetarian Friendly]    621.0     4.0   \n",
       "...                                                  ...      ...     ...   \n",
       "39995  [Italian, Vegetarian Friendly, Vegan Options, ...    500.0     4.5   \n",
       "39996  [French, American, Bar, European, Vegetarian F...   6341.0     3.5   \n",
       "39997                                  [Japanese, Sushi]   1652.0     4.5   \n",
       "39998  [Polish, European, Eastern European, Central E...    641.0     4.0   \n",
       "39999                                          [Spanish]   4827.0     3.0   \n",
       "\n",
       "       Price Range  Number of Reviews  \\\n",
       "0              2.0              194.0   \n",
       "1              2.0               10.0   \n",
       "2              3.0              688.0   \n",
       "3              2.0                3.0   \n",
       "4              2.0               84.0   \n",
       "...            ...                ...   \n",
       "39995          2.0               79.0   \n",
       "39996          2.0              542.0   \n",
       "39997          2.0                4.0   \n",
       "39998          2.0               70.0   \n",
       "39999          2.0              260.0   \n",
       "\n",
       "                                                 Reviews  \\\n",
       "0      'Good food at your doorstep', 'A good hotel re...   \n",
       "1      'Unique cuisine', 'Delicious Nepalese food'], ...   \n",
       "2      'Catch up with friends', 'Not exceptional'], [...   \n",
       "3                                                   ], [   \n",
       "4      'Best place to try a Bavarian food', 'Nice bui...   \n",
       "...                                                  ...   \n",
       "39995  'The real Italian experience!', 'Wonderful foo...   \n",
       "39996  'Parisian atmosphere', 'Bit pricey but interes...   \n",
       "39997  'Good by swedish standards', 'A hidden jewel i...   \n",
       "39998  'Underground restaurant', 'Oldest Restaurant i...   \n",
       "39999  'Average', 'Nice an informal'], ['01/31/2016',...   \n",
       "\n",
       "                                                  URL_TA     ID_TA  \\\n",
       "0      /Restaurant_Review-g187147-d1912643-Reviews-R_...  d1912643   \n",
       "1      /Restaurant_Review-g189852-d7992032-Reviews-Bu...  d7992032   \n",
       "2      /Restaurant_Review-g186338-d8632781-Reviews-RO...  d8632781   \n",
       "3      /Restaurant_Review-g187323-d1358776-Reviews-Es...  d1358776   \n",
       "4      /Restaurant_Review-g187309-d6864963-Reviews-Au...  d6864963   \n",
       "...                                                  ...       ...   \n",
       "39995  /Restaurant_Review-g187849-d2104414-Reviews-Ro...  d2104414   \n",
       "39996  /Restaurant_Review-g187147-d1800036-Reviews-La...  d1800036   \n",
       "39997  /Restaurant_Review-g189852-d947615-Reviews-Sus...   d947615   \n",
       "39998  /Restaurant_Review-g274856-d1100838-Reviews-Ho...  d1100838   \n",
       "39999  /Restaurant_Review-g187849-d1109020-Reviews-Ta...  d1109020   \n",
       "\n",
       "       popular_cuisine  count_cuisine                    Reviews_pat  \\\n",
       "0              14834.0            3.0  [12/31/2017, 11/20/2017, nan]   \n",
       "1              11666.0            4.0  [07/06/2017, 06/19/2016, nan]   \n",
       "2              25909.0            7.0  [01/08/2018, 01/06/2018, nan]   \n",
       "3              11666.0            4.0                [nan, nan, nan]   \n",
       "4              13244.0            3.0  [11/18/2017, 02/19/2017, nan]   \n",
       "...                ...            ...                            ...   \n",
       "39995          25752.0            4.0  [12/16/2017, 11/12/2017, nan]   \n",
       "39996          29051.0            5.0  [12/21/2017, 12/12/2017, nan]   \n",
       "39997           2620.0            2.0  [11/03/2016, 04/12/2008, nan]   \n",
       "39998          23503.0            5.0  [07/11/2017, 06/18/2017, nan]   \n",
       "39999           2798.0            1.0  [01/31/2016, 07/04/2012, nan]   \n",
       "\n",
       "       Reviews_1  Reviews_2  Reviews_delta    City_f  \n",
       "0         5002.0     3659.0             41  3.795175  \n",
       "1         4824.0     3140.0            382  0.635500  \n",
       "2         5010.0     3706.0              2  4.461675  \n",
       "3            0.0        0.0             55  1.670125  \n",
       "4         4959.0     3385.0            272  0.692075  \n",
       "...          ...        ...            ...       ...  \n",
       "39995     4987.0     3651.0             34  1.653075  \n",
       "39996     4992.0     3681.0              9  3.795175  \n",
       "39997     4579.0      150.0           3127  0.635500  \n",
       "39998     4829.0     3504.0             23  0.563425  \n",
       "39999     4302.0     1694.0           1306  1.653075  \n",
       "\n",
       "[40000 rows x 17 columns]"
      ]
     },
     "execution_count": 55,
     "metadata": {},
     "output_type": "execute_result"
    }
   ],
   "source": [
    "main"
   ]
  },
  {
   "cell_type": "code",
   "execution_count": 56,
   "metadata": {},
   "outputs": [
    {
     "data": {
      "text/plain": [
       "array([3.225, 4.755, 3.   , ..., 5.   , 4.395, 3.97 ])"
      ]
     },
     "execution_count": 56,
     "metadata": {},
     "output_type": "execute_result"
    }
   ],
   "source": [
    "X = main.drop(['Restaurant_id', 'Rating', 'City', 'Cuisine Style', 'Reviews', 'URL_TA', 'ID_TA', 'Reviews_pat', 'Reviews_2'], axis = 1)  \n",
    "y = main['Rating']\n",
    "    # Загружаем специальный инструмент для разбивки:  \n",
    "from sklearn.model_selection import train_test_split  \n",
    "      \n",
    "    # Наборы данных с меткой \"train\" будут использоваться для обучения модели, \"test\" - для тестирования.  \n",
    "    # Для тестирования мы будем использовать 25% от исходного датасета.  \n",
    "X_train, X_test, y_train, y_test = train_test_split(X, y, test_size=0.25)\n",
    "        # Импортируем необходимые библиотеки:  \n",
    "from sklearn.ensemble import RandomForestRegressor # инструмент для создания и обучения модели  \n",
    "from sklearn import metrics # инструменты для оценки точности модели  \n",
    "      \n",
    "    # Создаём модель  \n",
    "regr = RandomForestRegressor(n_estimators=100)  \n",
    "      \n",
    "    # Обучаем модель на тестовом наборе данных  \n",
    "regr.fit(X_train, y_train)  \n",
    "      \n",
    "    # Используем обученную модель для предсказания рейтинга ресторанов в тестовой выборке.  \n",
    "    # Предсказанные значения записываем в переменную y_pred  \n",
    "y_pred = regr.predict(X_test)  \n",
    "y_pred"
   ]
  },
  {
   "cell_type": "code",
   "execution_count": 57,
   "metadata": {},
   "outputs": [
    {
     "data": {
      "text/html": [
       "<div>\n",
       "<style scoped>\n",
       "    .dataframe tbody tr th:only-of-type {\n",
       "        vertical-align: middle;\n",
       "    }\n",
       "\n",
       "    .dataframe tbody tr th {\n",
       "        vertical-align: top;\n",
       "    }\n",
       "\n",
       "    .dataframe thead th {\n",
       "        text-align: right;\n",
       "    }\n",
       "</style>\n",
       "<table border=\"1\" class=\"dataframe\">\n",
       "  <thead>\n",
       "    <tr style=\"text-align: right;\">\n",
       "      <th></th>\n",
       "      <th>Ranking</th>\n",
       "      <th>Price Range</th>\n",
       "      <th>Number of Reviews</th>\n",
       "      <th>popular_cuisine</th>\n",
       "      <th>count_cuisine</th>\n",
       "      <th>Reviews_1</th>\n",
       "      <th>Reviews_delta</th>\n",
       "      <th>City_f</th>\n",
       "    </tr>\n",
       "  </thead>\n",
       "  <tbody>\n",
       "    <tr>\n",
       "      <th>0</th>\n",
       "      <td>5570.0</td>\n",
       "      <td>2.0</td>\n",
       "      <td>194.0</td>\n",
       "      <td>14834.0</td>\n",
       "      <td>3.0</td>\n",
       "      <td>5002.0</td>\n",
       "      <td>41</td>\n",
       "      <td>3.795175</td>\n",
       "    </tr>\n",
       "    <tr>\n",
       "      <th>1</th>\n",
       "      <td>1537.0</td>\n",
       "      <td>2.0</td>\n",
       "      <td>10.0</td>\n",
       "      <td>11666.0</td>\n",
       "      <td>4.0</td>\n",
       "      <td>4824.0</td>\n",
       "      <td>382</td>\n",
       "      <td>0.635500</td>\n",
       "    </tr>\n",
       "    <tr>\n",
       "      <th>2</th>\n",
       "      <td>353.0</td>\n",
       "      <td>3.0</td>\n",
       "      <td>688.0</td>\n",
       "      <td>25909.0</td>\n",
       "      <td>7.0</td>\n",
       "      <td>5010.0</td>\n",
       "      <td>2</td>\n",
       "      <td>4.461675</td>\n",
       "    </tr>\n",
       "    <tr>\n",
       "      <th>3</th>\n",
       "      <td>3458.0</td>\n",
       "      <td>2.0</td>\n",
       "      <td>3.0</td>\n",
       "      <td>11666.0</td>\n",
       "      <td>4.0</td>\n",
       "      <td>0.0</td>\n",
       "      <td>55</td>\n",
       "      <td>1.670125</td>\n",
       "    </tr>\n",
       "    <tr>\n",
       "      <th>4</th>\n",
       "      <td>621.0</td>\n",
       "      <td>2.0</td>\n",
       "      <td>84.0</td>\n",
       "      <td>13244.0</td>\n",
       "      <td>3.0</td>\n",
       "      <td>4959.0</td>\n",
       "      <td>272</td>\n",
       "      <td>0.692075</td>\n",
       "    </tr>\n",
       "    <tr>\n",
       "      <th>...</th>\n",
       "      <td>...</td>\n",
       "      <td>...</td>\n",
       "      <td>...</td>\n",
       "      <td>...</td>\n",
       "      <td>...</td>\n",
       "      <td>...</td>\n",
       "      <td>...</td>\n",
       "      <td>...</td>\n",
       "    </tr>\n",
       "    <tr>\n",
       "      <th>39995</th>\n",
       "      <td>500.0</td>\n",
       "      <td>2.0</td>\n",
       "      <td>79.0</td>\n",
       "      <td>25752.0</td>\n",
       "      <td>4.0</td>\n",
       "      <td>4987.0</td>\n",
       "      <td>34</td>\n",
       "      <td>1.653075</td>\n",
       "    </tr>\n",
       "    <tr>\n",
       "      <th>39996</th>\n",
       "      <td>6341.0</td>\n",
       "      <td>2.0</td>\n",
       "      <td>542.0</td>\n",
       "      <td>29051.0</td>\n",
       "      <td>5.0</td>\n",
       "      <td>4992.0</td>\n",
       "      <td>9</td>\n",
       "      <td>3.795175</td>\n",
       "    </tr>\n",
       "    <tr>\n",
       "      <th>39997</th>\n",
       "      <td>1652.0</td>\n",
       "      <td>2.0</td>\n",
       "      <td>4.0</td>\n",
       "      <td>2620.0</td>\n",
       "      <td>2.0</td>\n",
       "      <td>4579.0</td>\n",
       "      <td>3127</td>\n",
       "      <td>0.635500</td>\n",
       "    </tr>\n",
       "    <tr>\n",
       "      <th>39998</th>\n",
       "      <td>641.0</td>\n",
       "      <td>2.0</td>\n",
       "      <td>70.0</td>\n",
       "      <td>23503.0</td>\n",
       "      <td>5.0</td>\n",
       "      <td>4829.0</td>\n",
       "      <td>23</td>\n",
       "      <td>0.563425</td>\n",
       "    </tr>\n",
       "    <tr>\n",
       "      <th>39999</th>\n",
       "      <td>4827.0</td>\n",
       "      <td>2.0</td>\n",
       "      <td>260.0</td>\n",
       "      <td>2798.0</td>\n",
       "      <td>1.0</td>\n",
       "      <td>4302.0</td>\n",
       "      <td>1306</td>\n",
       "      <td>1.653075</td>\n",
       "    </tr>\n",
       "  </tbody>\n",
       "</table>\n",
       "<p>40000 rows × 8 columns</p>\n",
       "</div>"
      ],
      "text/plain": [
       "       Ranking  Price Range  Number of Reviews  popular_cuisine  \\\n",
       "0       5570.0          2.0              194.0          14834.0   \n",
       "1       1537.0          2.0               10.0          11666.0   \n",
       "2        353.0          3.0              688.0          25909.0   \n",
       "3       3458.0          2.0                3.0          11666.0   \n",
       "4        621.0          2.0               84.0          13244.0   \n",
       "...        ...          ...                ...              ...   \n",
       "39995    500.0          2.0               79.0          25752.0   \n",
       "39996   6341.0          2.0              542.0          29051.0   \n",
       "39997   1652.0          2.0                4.0           2620.0   \n",
       "39998    641.0          2.0               70.0          23503.0   \n",
       "39999   4827.0          2.0              260.0           2798.0   \n",
       "\n",
       "       count_cuisine  Reviews_1  Reviews_delta    City_f  \n",
       "0                3.0     5002.0             41  3.795175  \n",
       "1                4.0     4824.0            382  0.635500  \n",
       "2                7.0     5010.0              2  4.461675  \n",
       "3                4.0        0.0             55  1.670125  \n",
       "4                3.0     4959.0            272  0.692075  \n",
       "...              ...        ...            ...       ...  \n",
       "39995            4.0     4987.0             34  1.653075  \n",
       "39996            5.0     4992.0              9  3.795175  \n",
       "39997            2.0     4579.0           3127  0.635500  \n",
       "39998            5.0     4829.0             23  0.563425  \n",
       "39999            1.0     4302.0           1306  1.653075  \n",
       "\n",
       "[40000 rows x 8 columns]"
      ]
     },
     "execution_count": 57,
     "metadata": {},
     "output_type": "execute_result"
    }
   ],
   "source": [
    "X"
   ]
  },
  {
   "cell_type": "code",
   "execution_count": 58,
   "metadata": {},
   "outputs": [
    {
     "data": {
      "text/plain": [
       "0        3.5\n",
       "1        4.0\n",
       "2        4.5\n",
       "3        5.0\n",
       "4        4.0\n",
       "        ... \n",
       "39995    4.5\n",
       "39996    3.5\n",
       "39997    4.5\n",
       "39998    4.0\n",
       "39999    3.0\n",
       "Name: Rating, Length: 40000, dtype: float64"
      ]
     },
     "execution_count": 58,
     "metadata": {},
     "output_type": "execute_result"
    }
   ],
   "source": [
    "y"
   ]
  },
  {
   "cell_type": "code",
   "execution_count": 59,
   "metadata": {},
   "outputs": [
    {
     "name": "stdout",
     "output_type": "stream",
     "text": [
      "MAE: 0.209377\n"
     ]
    }
   ],
   "source": [
    "print('MAE:', metrics.mean_absolute_error(y_test, y_pred))"
   ]
  },
  {
   "cell_type": "code",
   "execution_count": 60,
   "metadata": {},
   "outputs": [
    {
     "data": {
      "text/plain": [
       "<AxesSubplot:>"
      ]
     },
     "execution_count": 60,
     "metadata": {},
     "output_type": "execute_result"
    },
    {
     "data": {
      "image/png": "[encoded data removed]",
      "text/plain": [
       "<Figure size 1080x720 with 2 Axes>"
      ]
     },
     "metadata": {
      "needs_background": "light"
     },
     "output_type": "display_data"
    }
   ],
   "source": [
    "plt.rcParams['figure.figsize'] = (15,10)\n",
    "sns.heatmap(main.drop(['Restaurant_id', 'City', 'Cuisine Style', 'Reviews','URL_TA', 'ID_TA', 'Reviews_2'],axis=1).corr(),)"
   ]
  },
  {
   "cell_type": "code",
   "execution_count": 61,
   "metadata": {},
   "outputs": [
    {
     "data": {
      "text/html": [
       "<div>\n",
       "<style scoped>\n",
       "    .dataframe tbody tr th:only-of-type {\n",
       "        vertical-align: middle;\n",
       "    }\n",
       "\n",
       "    .dataframe tbody tr th {\n",
       "        vertical-align: top;\n",
       "    }\n",
       "\n",
       "    .dataframe thead th {\n",
       "        text-align: right;\n",
       "    }\n",
       "</style>\n",
       "<table border=\"1\" class=\"dataframe\">\n",
       "  <thead>\n",
       "    <tr style=\"text-align: right;\">\n",
       "      <th></th>\n",
       "      <th>Restaurant_id</th>\n",
       "      <th>City</th>\n",
       "      <th>Cuisine Style</th>\n",
       "      <th>Ranking</th>\n",
       "      <th>Rating</th>\n",
       "      <th>Price Range</th>\n",
       "      <th>Number of Reviews</th>\n",
       "      <th>Reviews</th>\n",
       "      <th>URL_TA</th>\n",
       "      <th>ID_TA</th>\n",
       "      <th>popular_cuisine</th>\n",
       "      <th>count_cuisine</th>\n",
       "      <th>Reviews_pat</th>\n",
       "      <th>Reviews_1</th>\n",
       "      <th>Reviews_2</th>\n",
       "      <th>Reviews_delta</th>\n",
       "      <th>City_f</th>\n",
       "    </tr>\n",
       "  </thead>\n",
       "  <tbody>\n",
       "    <tr>\n",
       "      <th>0</th>\n",
       "      <td>id_5569</td>\n",
       "      <td>Paris</td>\n",
       "      <td>[European, French, International]</td>\n",
       "      <td>5570.0</td>\n",
       "      <td>3.5</td>\n",
       "      <td>2.0</td>\n",
       "      <td>194.0</td>\n",
       "      <td>'Good food at your doorstep', 'A good hotel re...</td>\n",
       "      <td>/Restaurant_Review-g187147-d1912643-Reviews-R_...</td>\n",
       "      <td>d1912643</td>\n",
       "      <td>14834.0</td>\n",
       "      <td>3.0</td>\n",
       "      <td>[12/31/2017, 11/20/2017, nan]</td>\n",
       "      <td>5002.0</td>\n",
       "      <td>3659.0</td>\n",
       "      <td>41</td>\n",
       "      <td>3.795175</td>\n",
       "    </tr>\n",
       "    <tr>\n",
       "      <th>1</th>\n",
       "      <td>id_1535</td>\n",
       "      <td>Stockholm</td>\n",
       "      <td>NaN</td>\n",
       "      <td>1537.0</td>\n",
       "      <td>4.0</td>\n",
       "      <td>2.0</td>\n",
       "      <td>10.0</td>\n",
       "      <td>'Unique cuisine', 'Delicious Nepalese food'], ...</td>\n",
       "      <td>/Restaurant_Review-g189852-d7992032-Reviews-Bu...</td>\n",
       "      <td>d7992032</td>\n",
       "      <td>11666.0</td>\n",
       "      <td>4.0</td>\n",
       "      <td>[07/06/2017, 06/19/2016, nan]</td>\n",
       "      <td>4824.0</td>\n",
       "      <td>3140.0</td>\n",
       "      <td>382</td>\n",
       "      <td>0.635500</td>\n",
       "    </tr>\n",
       "    <tr>\n",
       "      <th>2</th>\n",
       "      <td>id_352</td>\n",
       "      <td>London</td>\n",
       "      <td>[Japanese, Sushi, Asian, Grill, Vegetarian Fri...</td>\n",
       "      <td>353.0</td>\n",
       "      <td>4.5</td>\n",
       "      <td>3.0</td>\n",
       "      <td>688.0</td>\n",
       "      <td>'Catch up with friends', 'Not exceptional'], [...</td>\n",
       "      <td>/Restaurant_Review-g186338-d8632781-Reviews-RO...</td>\n",
       "      <td>d8632781</td>\n",
       "      <td>25909.0</td>\n",
       "      <td>7.0</td>\n",
       "      <td>[01/08/2018, 01/06/2018, nan]</td>\n",
       "      <td>5010.0</td>\n",
       "      <td>3706.0</td>\n",
       "      <td>2</td>\n",
       "      <td>4.461675</td>\n",
       "    </tr>\n",
       "    <tr>\n",
       "      <th>3</th>\n",
       "      <td>id_3456</td>\n",
       "      <td>Berlin</td>\n",
       "      <td>NaN</td>\n",
       "      <td>3458.0</td>\n",
       "      <td>5.0</td>\n",
       "      <td>2.0</td>\n",
       "      <td>3.0</td>\n",
       "      <td>], [</td>\n",
       "      <td>/Restaurant_Review-g187323-d1358776-Reviews-Es...</td>\n",
       "      <td>d1358776</td>\n",
       "      <td>11666.0</td>\n",
       "      <td>4.0</td>\n",
       "      <td>[nan, nan, nan]</td>\n",
       "      <td>0.0</td>\n",
       "      <td>0.0</td>\n",
       "      <td>55</td>\n",
       "      <td>1.670125</td>\n",
       "    </tr>\n",
       "    <tr>\n",
       "      <th>4</th>\n",
       "      <td>id_615</td>\n",
       "      <td>Munich</td>\n",
       "      <td>[German, Central European, Vegetarian Friendly]</td>\n",
       "      <td>621.0</td>\n",
       "      <td>4.0</td>\n",
       "      <td>2.0</td>\n",
       "      <td>84.0</td>\n",
       "      <td>'Best place to try a Bavarian food', 'Nice bui...</td>\n",
       "      <td>/Restaurant_Review-g187309-d6864963-Reviews-Au...</td>\n",
       "      <td>d6864963</td>\n",
       "      <td>13244.0</td>\n",
       "      <td>3.0</td>\n",
       "      <td>[11/18/2017, 02/19/2017, nan]</td>\n",
       "      <td>4959.0</td>\n",
       "      <td>3385.0</td>\n",
       "      <td>272</td>\n",
       "      <td>0.692075</td>\n",
       "    </tr>\n",
       "    <tr>\n",
       "      <th>...</th>\n",
       "      <td>...</td>\n",
       "      <td>...</td>\n",
       "      <td>...</td>\n",
       "      <td>...</td>\n",
       "      <td>...</td>\n",
       "      <td>...</td>\n",
       "      <td>...</td>\n",
       "      <td>...</td>\n",
       "      <td>...</td>\n",
       "      <td>...</td>\n",
       "      <td>...</td>\n",
       "      <td>...</td>\n",
       "      <td>...</td>\n",
       "      <td>...</td>\n",
       "      <td>...</td>\n",
       "      <td>...</td>\n",
       "      <td>...</td>\n",
       "    </tr>\n",
       "    <tr>\n",
       "      <th>39995</th>\n",
       "      <td>id_499</td>\n",
       "      <td>Milan</td>\n",
       "      <td>[Italian, Vegetarian Friendly, Vegan Options, ...</td>\n",
       "      <td>500.0</td>\n",
       "      <td>4.5</td>\n",
       "      <td>2.0</td>\n",
       "      <td>79.0</td>\n",
       "      <td>'The real Italian experience!', 'Wonderful foo...</td>\n",
       "      <td>/Restaurant_Review-g187849-d2104414-Reviews-Ro...</td>\n",
       "      <td>d2104414</td>\n",
       "      <td>25752.0</td>\n",
       "      <td>4.0</td>\n",
       "      <td>[12/16/2017, 11/12/2017, nan]</td>\n",
       "      <td>4987.0</td>\n",
       "      <td>3651.0</td>\n",
       "      <td>34</td>\n",
       "      <td>1.653075</td>\n",
       "    </tr>\n",
       "    <tr>\n",
       "      <th>39996</th>\n",
       "      <td>id_6340</td>\n",
       "      <td>Paris</td>\n",
       "      <td>[French, American, Bar, European, Vegetarian F...</td>\n",
       "      <td>6341.0</td>\n",
       "      <td>3.5</td>\n",
       "      <td>2.0</td>\n",
       "      <td>542.0</td>\n",
       "      <td>'Parisian atmosphere', 'Bit pricey but interes...</td>\n",
       "      <td>/Restaurant_Review-g187147-d1800036-Reviews-La...</td>\n",
       "      <td>d1800036</td>\n",
       "      <td>29051.0</td>\n",
       "      <td>5.0</td>\n",
       "      <td>[12/21/2017, 12/12/2017, nan]</td>\n",
       "      <td>4992.0</td>\n",
       "      <td>3681.0</td>\n",
       "      <td>9</td>\n",
       "      <td>3.795175</td>\n",
       "    </tr>\n",
       "    <tr>\n",
       "      <th>39997</th>\n",
       "      <td>id_1649</td>\n",
       "      <td>Stockholm</td>\n",
       "      <td>[Japanese, Sushi]</td>\n",
       "      <td>1652.0</td>\n",
       "      <td>4.5</td>\n",
       "      <td>2.0</td>\n",
       "      <td>4.0</td>\n",
       "      <td>'Good by swedish standards', 'A hidden jewel i...</td>\n",
       "      <td>/Restaurant_Review-g189852-d947615-Reviews-Sus...</td>\n",
       "      <td>d947615</td>\n",
       "      <td>2620.0</td>\n",
       "      <td>2.0</td>\n",
       "      <td>[11/03/2016, 04/12/2008, nan]</td>\n",
       "      <td>4579.0</td>\n",
       "      <td>150.0</td>\n",
       "      <td>3127</td>\n",
       "      <td>0.635500</td>\n",
       "    </tr>\n",
       "    <tr>\n",
       "      <th>39998</th>\n",
       "      <td>id_640</td>\n",
       "      <td>Warsaw</td>\n",
       "      <td>[Polish, European, Eastern European, Central E...</td>\n",
       "      <td>641.0</td>\n",
       "      <td>4.0</td>\n",
       "      <td>2.0</td>\n",
       "      <td>70.0</td>\n",
       "      <td>'Underground restaurant', 'Oldest Restaurant i...</td>\n",
       "      <td>/Restaurant_Review-g274856-d1100838-Reviews-Ho...</td>\n",
       "      <td>d1100838</td>\n",
       "      <td>23503.0</td>\n",
       "      <td>5.0</td>\n",
       "      <td>[07/11/2017, 06/18/2017, nan]</td>\n",
       "      <td>4829.0</td>\n",
       "      <td>3504.0</td>\n",
       "      <td>23</td>\n",
       "      <td>0.563425</td>\n",
       "    </tr>\n",
       "    <tr>\n",
       "      <th>39999</th>\n",
       "      <td>id_4824</td>\n",
       "      <td>Milan</td>\n",
       "      <td>[Spanish]</td>\n",
       "      <td>4827.0</td>\n",
       "      <td>3.0</td>\n",
       "      <td>2.0</td>\n",
       "      <td>260.0</td>\n",
       "      <td>'Average', 'Nice an informal'], ['01/31/2016',...</td>\n",
       "      <td>/Restaurant_Review-g187849-d1109020-Reviews-Ta...</td>\n",
       "      <td>d1109020</td>\n",
       "      <td>2798.0</td>\n",
       "      <td>1.0</td>\n",
       "      <td>[01/31/2016, 07/04/2012, nan]</td>\n",
       "      <td>4302.0</td>\n",
       "      <td>1694.0</td>\n",
       "      <td>1306</td>\n",
       "      <td>1.653075</td>\n",
       "    </tr>\n",
       "  </tbody>\n",
       "</table>\n",
       "<p>40000 rows × 17 columns</p>\n",
       "</div>"
      ],
      "text/plain": [
       "      Restaurant_id       City  \\\n",
       "0           id_5569      Paris   \n",
       "1           id_1535  Stockholm   \n",
       "2            id_352     London   \n",
       "3           id_3456     Berlin   \n",
       "4            id_615     Munich   \n",
       "...             ...        ...   \n",
       "39995        id_499      Milan   \n",
       "39996       id_6340      Paris   \n",
       "39997       id_1649  Stockholm   \n",
       "39998        id_640     Warsaw   \n",
       "39999       id_4824      Milan   \n",
       "\n",
       "                                           Cuisine Style  Ranking  Rating  \\\n",
       "0                      [European, French, International]   5570.0     3.5   \n",
       "1                                                    NaN   1537.0     4.0   \n",
       "2      [Japanese, Sushi, Asian, Grill, Vegetarian Fri...    353.0     4.5   \n",
       "3                                                    NaN   3458.0     5.0   \n",
       "4        [German, Central European, Vegetarian Friendly]    621.0     4.0   \n",
       "...                                                  ...      ...     ...   \n",
       "39995  [Italian, Vegetarian Friendly, Vegan Options, ...    500.0     4.5   \n",
       "39996  [French, American, Bar, European, Vegetarian F...   6341.0     3.5   \n",
       "39997                                  [Japanese, Sushi]   1652.0     4.5   \n",
       "39998  [Polish, European, Eastern European, Central E...    641.0     4.0   \n",
       "39999                                          [Spanish]   4827.0     3.0   \n",
       "\n",
       "       Price Range  Number of Reviews  \\\n",
       "0              2.0              194.0   \n",
       "1              2.0               10.0   \n",
       "2              3.0              688.0   \n",
       "3              2.0                3.0   \n",
       "4              2.0               84.0   \n",
       "...            ...                ...   \n",
       "39995          2.0               79.0   \n",
       "39996          2.0              542.0   \n",
       "39997          2.0                4.0   \n",
       "39998          2.0               70.0   \n",
       "39999          2.0              260.0   \n",
       "\n",
       "                                                 Reviews  \\\n",
       "0      'Good food at your doorstep', 'A good hotel re...   \n",
       "1      'Unique cuisine', 'Delicious Nepalese food'], ...   \n",
       "2      'Catch up with friends', 'Not exceptional'], [...   \n",
       "3                                                   ], [   \n",
       "4      'Best place to try a Bavarian food', 'Nice bui...   \n",
       "...                                                  ...   \n",
       "39995  'The real Italian experience!', 'Wonderful foo...   \n",
       "39996  'Parisian atmosphere', 'Bit pricey but interes...   \n",
       "39997  'Good by swedish standards', 'A hidden jewel i...   \n",
       "39998  'Underground restaurant', 'Oldest Restaurant i...   \n",
       "39999  'Average', 'Nice an informal'], ['01/31/2016',...   \n",
       "\n",
       "                                                  URL_TA     ID_TA  \\\n",
       "0      /Restaurant_Review-g187147-d1912643-Reviews-R_...  d1912643   \n",
       "1      /Restaurant_Review-g189852-d7992032-Reviews-Bu...  d7992032   \n",
       "2      /Restaurant_Review-g186338-d8632781-Reviews-RO...  d8632781   \n",
       "3      /Restaurant_Review-g187323-d1358776-Reviews-Es...  d1358776   \n",
       "4      /Restaurant_Review-g187309-d6864963-Reviews-Au...  d6864963   \n",
       "...                                                  ...       ...   \n",
       "39995  /Restaurant_Review-g187849-d2104414-Reviews-Ro...  d2104414   \n",
       "39996  /Restaurant_Review-g187147-d1800036-Reviews-La...  d1800036   \n",
       "39997  /Restaurant_Review-g189852-d947615-Reviews-Sus...   d947615   \n",
       "39998  /Restaurant_Review-g274856-d1100838-Reviews-Ho...  d1100838   \n",
       "39999  /Restaurant_Review-g187849-d1109020-Reviews-Ta...  d1109020   \n",
       "\n",
       "       popular_cuisine  count_cuisine                    Reviews_pat  \\\n",
       "0              14834.0            3.0  [12/31/2017, 11/20/2017, nan]   \n",
       "1              11666.0            4.0  [07/06/2017, 06/19/2016, nan]   \n",
       "2              25909.0            7.0  [01/08/2018, 01/06/2018, nan]   \n",
       "3              11666.0            4.0                [nan, nan, nan]   \n",
       "4              13244.0            3.0  [11/18/2017, 02/19/2017, nan]   \n",
       "...                ...            ...                            ...   \n",
       "39995          25752.0            4.0  [12/16/2017, 11/12/2017, nan]   \n",
       "39996          29051.0            5.0  [12/21/2017, 12/12/2017, nan]   \n",
       "39997           2620.0            2.0  [11/03/2016, 04/12/2008, nan]   \n",
       "39998          23503.0            5.0  [07/11/2017, 06/18/2017, nan]   \n",
       "39999           2798.0            1.0  [01/31/2016, 07/04/2012, nan]   \n",
       "\n",
       "       Reviews_1  Reviews_2  Reviews_delta    City_f  \n",
       "0         5002.0     3659.0             41  3.795175  \n",
       "1         4824.0     3140.0            382  0.635500  \n",
       "2         5010.0     3706.0              2  4.461675  \n",
       "3            0.0        0.0             55  1.670125  \n",
       "4         4959.0     3385.0            272  0.692075  \n",
       "...          ...        ...            ...       ...  \n",
       "39995     4987.0     3651.0             34  1.653075  \n",
       "39996     4992.0     3681.0              9  3.795175  \n",
       "39997     4579.0      150.0           3127  0.635500  \n",
       "39998     4829.0     3504.0             23  0.563425  \n",
       "39999     4302.0     1694.0           1306  1.653075  \n",
       "\n",
       "[40000 rows x 17 columns]"
      ]
     },
     "execution_count": 61,
     "metadata": {},
     "output_type": "execute_result"
    }
   ],
   "source": [
    "main"
   ]
  },
  {
   "cell_type": "code",
   "execution_count": null,
   "metadata": {
    "scrolled": false
   },
   "outputs": [],
   "source": []
  },
  {
   "cell_type": "code",
   "execution_count": null,
   "metadata": {
    "scrolled": false
   },
   "outputs": [],
   "source": []
  },
  {
   "cell_type": "code",
   "execution_count": null,
   "metadata": {},
   "outputs": [],
   "source": []
  },
  {
   "cell_type": "code",
   "execution_count": null,
   "metadata": {},
   "outputs": [],
   "source": []
  },
  {
   "cell_type": "code",
   "execution_count": null,
   "metadata": {},
   "outputs": [],
   "source": [
    "\n"
   ]
  },
  {
   "cell_type": "code",
   "execution_count": null,
   "metadata": {},
   "outputs": [],
   "source": []
  },
  {
   "cell_type": "code",
   "execution_count": null,
   "metadata": {},
   "outputs": [],
   "source": []
  },
  {
   "cell_type": "code",
   "execution_count": null,
   "metadata": {},
   "outputs": [],
   "source": []
  },
  {
   "cell_type": "code",
   "execution_count": null,
   "metadata": {},
   "outputs": [],
   "source": []
  },
  {
   "cell_type": "code",
   "execution_count": null,
   "metadata": {},
   "outputs": [],
   "source": []
  },
  {
   "cell_type": "code",
   "execution_count": null,
   "metadata": {},
   "outputs": [],
   "source": []
  },
  {
   "cell_type": "code",
   "execution_count": null,
   "metadata": {},
   "outputs": [],
   "source": []
  },
  {
   "cell_type": "code",
   "execution_count": null,
   "metadata": {},
   "outputs": [],
   "source": []
  },
  {
   "cell_type": "code",
   "execution_count": null,
   "metadata": {},
   "outputs": [],
   "source": []
  },
  {
   "cell_type": "code",
   "execution_count": null,
   "metadata": {},
   "outputs": [],
   "source": []
  },
  {
   "cell_type": "code",
   "execution_count": null,
   "metadata": {},
   "outputs": [],
   "source": []
  },
  {
   "cell_type": "code",
   "execution_count": 62,
   "metadata": {
    "scrolled": true
   },
   "outputs": [],
   "source": []
  },
  {
   "cell_type": "code",
   "execution_count": 63,
   "metadata": {},
   "outputs": [],
   "source": []
  },
  {
   "cell_type": "code",
   "execution_count": 64,
   "metadata": {},
   "outputs": [],
   "source": []
  },
  {
   "cell_type": "code",
   "execution_count": 65,
   "metadata": {},
   "outputs": [],
   "source": []
  },
  {
   "cell_type": "code",
   "execution_count": 66,
   "metadata": {},
   "outputs": [],
   "source": []
  },
  {
   "cell_type": "code",
   "execution_count": 67,
   "metadata": {
    "scrolled": false
   },
   "outputs": [],
   "source": []
  },
  {
   "cell_type": "code",
   "execution_count": null,
   "metadata": {},
   "outputs": [],
   "source": []
  },
  {
   "cell_type": "code",
   "execution_count": null,
   "metadata": {},
   "outputs": [],
   "source": []
  },
  {
   "cell_type": "code",
   "execution_count": null,
   "metadata": {
    "scrolled": true
   },
   "outputs": [],
   "source": []
  },
  {
   "cell_type": "code",
   "execution_count": null,
   "metadata": {},
   "outputs": [],
   "source": []
  },
  {
   "cell_type": "code",
   "execution_count": null,
   "metadata": {},
   "outputs": [],
   "source": []
  },
  {
   "cell_type": "code",
   "execution_count": null,
   "metadata": {},
   "outputs": [],
   "source": []
  },
  {
   "cell_type": "code",
   "execution_count": null,
   "metadata": {},
   "outputs": [],
   "source": []
  },
  {
   "cell_type": "code",
   "execution_count": null,
   "metadata": {},
   "outputs": [],
   "source": []
  },
  {
   "cell_type": "code",
   "execution_count": null,
   "metadata": {},
   "outputs": [],
   "source": []
  },
  {
   "cell_type": "code",
   "execution_count": null,
   "metadata": {},
   "outputs": [],
   "source": []
  },
  {
   "cell_type": "code",
   "execution_count": null,
   "metadata": {},
   "outputs": [],
   "source": []
  }
 ],
 "metadata": {
  "kernelspec": {
   "display_name": "Python 3",
   "language": "python",
   "name": "python3"
  },
  "language_info": {
   "codemirror_mode": {
    "name": "ipython",
    "version": 3
   },
   "file_extension": ".py",
   "mimetype": "text/x-python",
   "name": "python",
   "nbconvert_exporter": "python",
   "pygments_lexer": "ipython3",
   "version": "3.8.3"
  }
 },
 "nbformat": 4,
 "nbformat_minor": 4
}
