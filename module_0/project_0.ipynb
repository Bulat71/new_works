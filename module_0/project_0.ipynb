{
 "cells": [
  {
   "cell_type": "code",
   "execution_count": 8,
   "metadata": {},
   "outputs": [
    {
     "name": "stdout",
     "output_type": "stream",
     "text": [
      "Your algorithm guesses the number in an average of 5 attempts\n"
     ]
    },
    {
     "data": {
      "text/plain": [
       "5"
      ]
     },
     "execution_count": 8,
     "metadata": {},
     "output_type": "execute_result"
    }
   ],
   "source": [
    "import numpy as np\n",
    "number = np.random.randint(1,101)    \n",
    "\n",
    "\n",
    "def score_game(game_core):\n",
    "    '''Run the game 1000 times to find out how fast the game guesses the number'''\n",
    "    count_ls = []\n",
    "    np.random.seed(1)    \n",
    "    random_array = np.random.randint(1,101, size=(1000))\n",
    "    for number in random_array:\n",
    "        count_ls.append(game_core(number))\n",
    "    score = int(np.mean(count_ls))    \n",
    "    print(f\"Your algorithm guesses the number in an average of {score} attempts\")\n",
    "    return(score)\n",
    "\n",
    "\n",
    "def game_core(number):\n",
    "    '''The function accepts an unknown number and returns the number of attempts to guess it'''\n",
    "    choice = np.arange(101)    \n",
    "    count = 1        \n",
    "    while number != choice[len(choice) // 2]:     \n",
    "        count += 1        \n",
    "        if number < choice[len(choice) // 2]: \n",
    "            choice = choice[ :len(choice) // 2]            \n",
    "        elif number > choice[len(choice) // 2]:\n",
    "            choice = choice[len(choice)//2 + 1: ]            \n",
    "    return count    \n",
    "    \n",
    "    \n",
    "score_game(game_core)    # Checking the algorithm "
   ]
  }
 ],
 "metadata": {
  "kernelspec": {
   "display_name": "Python 3",
   "language": "python",
   "name": "python3"
  },
  "language_info": {
   "codemirror_mode": {
    "name": "ipython",
    "version": 3
   },
   "file_extension": ".py",
   "mimetype": "text/x-python",
   "name": "python",
   "nbconvert_exporter": "python",
   "pygments_lexer": "ipython3",
   "version": "3.8.3"
  }
 },
 "nbformat": 4,
 "nbformat_minor": 4
}
